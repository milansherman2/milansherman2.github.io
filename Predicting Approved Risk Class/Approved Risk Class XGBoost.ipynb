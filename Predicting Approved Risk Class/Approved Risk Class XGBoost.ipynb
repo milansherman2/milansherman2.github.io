{
 "cells": [
  {
   "cell_type": "markdown",
   "id": "f2afb25a",
   "metadata": {},
   "source": [
    "## Multiclass Classifier for all risk classes including declined"
   ]
  },
  {
   "cell_type": "markdown",
   "id": "b2120344",
   "metadata": {},
   "source": [
    "#### Random Forest"
   ]
  },
  {
   "cell_type": "code",
   "execution_count": 2,
   "id": "97e70068",
   "metadata": {},
   "outputs": [
    {
     "name": "stdout",
     "output_type": "stream",
     "text": [
      "Accuracy: 0.6114140537860949\n"
     ]
    }
   ],
   "source": [
    "import pandas as pd\n",
    "from sklearn.ensemble import RandomForestClassifier\n",
    "from sklearn.model_selection import train_test_split\n",
    "\n",
    "df = pd.read_csv(r'C:\\Users\\milan\\Documents\\GitHub\\DSC-680\\\\risk_class_all.csv')\n",
    "\n",
    "y = df['approved_risk_class']\n",
    "X = df.drop('approved_risk_class', axis=1)\n",
    "\n",
    "\n",
    "# Split data into training and test sets\n",
    "X_train, X_test, y_train, y_test = train_test_split(X, y, test_size=0.2, random_state=42)\n",
    "\n",
    "# # Create random forest classifier with 100 trees\n",
    "clf = RandomForestClassifier(n_estimators=100, random_state=42)\n",
    "\n",
    "# # Train the classifier on the training set\n",
    "clf.fit(X_train, y_train)\n",
    "\n",
    "# # Make predictions on the test set\n",
    "y_pred = clf.predict(X_test)\n",
    "\n",
    "# # Evaluate the performance of the classifier\n",
    "accuracy = clf.score(X_test, y_test)\n",
    "print(\"Accuracy:\", accuracy)\n"
   ]
  },
  {
   "cell_type": "code",
   "execution_count": 117,
   "id": "fa649483",
   "metadata": {},
   "outputs": [
    {
     "data": {
      "image/png": "[encoded data removed]",
      "text/plain": [
       "<Figure size 1440x720 with 1 Axes>"
      ]
     },
     "metadata": {
      "needs_background": "light"
     },
     "output_type": "display_data"
    }
   ],
   "source": [
    "import matplotlib.pyplot as plt\n",
    "import seaborn as sn\n",
    "from sklearn.metrics import confusion_matrix\n",
    "matrix = confusion_matrix(y_test.values, y_pred)\n",
    "df = pd.DataFrame(matrix)\n",
    "sn.heatmap(df, annot = True, cbar = None, cmap = \"Blues\", fmt='g')\n",
    "plt.show()\n",
    "\n",
    "# Note: rows are true values, columns are predicted\n",
    "# Rows = recall\n",
    "# Columns = precision"
   ]
  },
  {
   "cell_type": "code",
   "execution_count": 118,
   "id": "49b0805f",
   "metadata": {},
   "outputs": [
    {
     "name": "stdout",
     "output_type": "stream",
     "text": [
      "              precision    recall  f1-score   support\n",
      "\n",
      "           0       0.73      0.87      0.79     18683\n",
      "           1       0.29      0.19      0.23      1811\n",
      "           2       0.37      0.34      0.36      4656\n",
      "           3       0.40      0.24      0.30      4463\n",
      "           4       0.32      0.15      0.21      2136\n",
      "\n",
      "    accuracy                           0.62     31749\n",
      "   macro avg       0.42      0.36      0.38     31749\n",
      "weighted avg       0.58      0.62      0.59     31749\n",
      "\n"
     ]
    }
   ],
   "source": [
    "from sklearn.metrics import classification_report\n",
    "print(classification_report(y_test.values, y_pred))"
   ]
  },
  {
   "cell_type": "code",
   "execution_count": 119,
   "id": "95aab64d",
   "metadata": {},
   "outputs": [],
   "source": [
    "train, test = train_test_split(nt_transformed, test_size=0.2, random_state=42)\n",
    "\n",
    "features = train.drop('approved_risk_class', axis=1)\n",
    "target = train['approved_risk_class']\n",
    "test_features = test.drop('approved_risk_class', axis=1)\n",
    "test_target = test['approved_risk_class']"
   ]
  },
  {
   "cell_type": "code",
   "execution_count": 159,
   "id": "67c0569d",
   "metadata": {},
   "outputs": [],
   "source": [
    "# Create pipeline\n",
    "from sklearn.ensemble import RandomForestClassifier\n",
    "from sklearn import metrics\n",
    "from sklearn.metrics import accuracy_score, confusion_matrix, classification_report\n",
    "from sklearn.inspection import permutation_importance\n",
    "from sklearn.preprocessing import StandardScaler\n",
    "from sklearn.pipeline import Pipeline, FeatureUnion\n",
    "\n",
    "pipe = Pipeline([\n",
    "    ('scaler', StandardScaler()),\n",
    "    ('rf', RandomForestClassifier(class_weight='balanced'))\n",
    "])"
   ]
  },
  {
   "cell_type": "code",
   "execution_count": 160,
   "id": "6f591859",
   "metadata": {},
   "outputs": [],
   "source": [
    "# Set Parameters\n",
    "# class_weights = 'balanced'\n",
    "\n",
    "\n",
    "params = {\n",
    "    'rf__n_estimators': [120, 140],\n",
    "    'rf__max_depth': [30, 50],\n",
    "    'rf__min_samples_split': [2,3],\n",
    "    'rf__min_samples_leaf': [3,5],\n",
    "}"
   ]
  },
  {
   "cell_type": "markdown",
   "id": "c3641ecc",
   "metadata": {},
   "source": [
    "### Tune to recall"
   ]
  },
  {
   "cell_type": "code",
   "execution_count": 162,
   "id": "298e1752",
   "metadata": {},
   "outputs": [
    {
     "data": {
      "text/plain": [
       "GridSearchCV(cv=3,\n",
       "             estimator=Pipeline(steps=[('scaler', StandardScaler()),\n",
       "                                       ('rf',\n",
       "                                        RandomForestClassifier(class_weight='balanced'))]),\n",
       "             param_grid={'rf__max_depth': [30, 50],\n",
       "                         'rf__min_samples_leaf': [3, 5],\n",
       "                         'rf__min_samples_split': [2, 3],\n",
       "                         'rf__n_estimators': [120, 140]},\n",
       "             scoring='recall_macro')"
      ]
     },
     "execution_count": 162,
     "metadata": {},
     "output_type": "execute_result"
    }
   ],
   "source": [
    "# GridSearch, Fit, Score\n",
    "from sklearn.model_selection import GridSearchCV, TimeSeriesSplit, train_test_split\n",
    "RF_gs = GridSearchCV(pipe, param_grid=params ,scoring = 'recall_macro', cv = 3)\n",
    "RF_gs.fit(features, target)"
   ]
  },
  {
   "cell_type": "code",
   "execution_count": 163,
   "id": "838c7fc9",
   "metadata": {},
   "outputs": [
    {
     "data": {
      "text/plain": [
       "Pipeline(steps=[('scaler', StandardScaler()),\n",
       "                ('rf',\n",
       "                 RandomForestClassifier(class_weight='balanced', max_depth=30,\n",
       "                                        min_samples_leaf=5, min_samples_split=3,\n",
       "                                        n_estimators=140))])"
      ]
     },
     "execution_count": 163,
     "metadata": {},
     "output_type": "execute_result"
    }
   ],
   "source": [
    "RF_gs.best_estimator_"
   ]
  },
  {
   "cell_type": "code",
   "execution_count": 164,
   "id": "8c063b89",
   "metadata": {},
   "outputs": [
    {
     "data": {
      "text/plain": [
       "0.5707266370594349"
      ]
     },
     "execution_count": 164,
     "metadata": {},
     "output_type": "execute_result"
    }
   ],
   "source": [
    "pipe = Pipeline([(\"standardizer\", StandardScaler()), (\"rf\", RandomForestClassifier(class_weight='balanced', max_depth=30,\n",
    "                                        min_samples_leaf=5, min_samples_split=3,\n",
    "                                        n_estimators=140))])\n",
    "pipe.fit(features, target)\n",
    "rf_preds = pipe.predict(test_features)\n",
    "accuracy_score(rf_preds, test_target)"
   ]
  },
  {
   "cell_type": "code",
   "execution_count": 165,
   "id": "3810f27a",
   "metadata": {},
   "outputs": [
    {
     "data": {
      "image/png": "[encoded data removed]",
      "text/plain": [
       "<Figure size 1440x720 with 1 Axes>"
      ]
     },
     "metadata": {
      "needs_background": "light"
     },
     "output_type": "display_data"
    }
   ],
   "source": [
    "matrix = confusion_matrix(test_target, rf_preds)\n",
    "df = pd.DataFrame(matrix)\n",
    "sn.heatmap(df, annot = True, cbar = None, cmap = \"Blues\", fmt='g')\n",
    "plt.show()"
   ]
  },
  {
   "cell_type": "code",
   "execution_count": 166,
   "id": "5a85ac1e",
   "metadata": {},
   "outputs": [
    {
     "name": "stdout",
     "output_type": "stream",
     "text": [
      "              precision    recall  f1-score   support\n",
      "\n",
      "           0       0.94      0.69      0.79     18683\n",
      "           1       0.21      0.75      0.32      1811\n",
      "           2       0.43      0.31      0.36      4656\n",
      "           3       0.36      0.35      0.36      4463\n",
      "           4       0.24      0.43      0.31      2136\n",
      "\n",
      "    accuracy                           0.57     31749\n",
      "   macro avg       0.44      0.51      0.43     31749\n",
      "weighted avg       0.70      0.57      0.61     31749\n",
      "\n"
     ]
    }
   ],
   "source": [
    "from sklearn.metrics import classification_report\n",
    "print(classification_report(test_target, rf_preds))"
   ]
  },
  {
   "cell_type": "code",
   "execution_count": 151,
   "id": "2218e5e6",
   "metadata": {},
   "outputs": [
    {
     "data": {
      "text/plain": [
       "['bootstrap',\n",
       " 'ccp_alpha',\n",
       " 'class_weight',\n",
       " 'criterion',\n",
       " 'max_depth',\n",
       " 'max_features',\n",
       " 'max_leaf_nodes',\n",
       " 'max_samples',\n",
       " 'min_impurity_decrease',\n",
       " 'min_impurity_split',\n",
       " 'min_samples_leaf',\n",
       " 'min_samples_split',\n",
       " 'min_weight_fraction_leaf',\n",
       " 'n_estimators',\n",
       " 'n_jobs',\n",
       " 'oob_score',\n",
       " 'random_state',\n",
       " 'verbose',\n",
       " 'warm_start']"
      ]
     },
     "execution_count": 151,
     "metadata": {},
     "output_type": "execute_result"
    }
   ],
   "source": [
    "from sklearn.ensemble import RandomForestClassifier\n",
    "\n",
    "rf_classifier = RandomForestClassifier()\n",
    "\n",
    "sorted(rf_classifier.get_params().keys())"
   ]
  },
  {
   "cell_type": "code",
   "execution_count": 135,
   "id": "4bf35ffc",
   "metadata": {},
   "outputs": [
    {
     "data": {
      "text/plain": [
       "['accuracy',\n",
       " 'adjusted_mutual_info_score',\n",
       " 'adjusted_rand_score',\n",
       " 'average_precision',\n",
       " 'balanced_accuracy',\n",
       " 'completeness_score',\n",
       " 'explained_variance',\n",
       " 'f1',\n",
       " 'f1_macro',\n",
       " 'f1_micro',\n",
       " 'f1_samples',\n",
       " 'f1_weighted',\n",
       " 'fowlkes_mallows_score',\n",
       " 'homogeneity_score',\n",
       " 'jaccard',\n",
       " 'jaccard_macro',\n",
       " 'jaccard_micro',\n",
       " 'jaccard_samples',\n",
       " 'jaccard_weighted',\n",
       " 'max_error',\n",
       " 'mutual_info_score',\n",
       " 'neg_brier_score',\n",
       " 'neg_log_loss',\n",
       " 'neg_mean_absolute_error',\n",
       " 'neg_mean_absolute_percentage_error',\n",
       " 'neg_mean_gamma_deviance',\n",
       " 'neg_mean_poisson_deviance',\n",
       " 'neg_mean_squared_error',\n",
       " 'neg_mean_squared_log_error',\n",
       " 'neg_median_absolute_error',\n",
       " 'neg_root_mean_squared_error',\n",
       " 'normalized_mutual_info_score',\n",
       " 'precision',\n",
       " 'precision_macro',\n",
       " 'precision_micro',\n",
       " 'precision_samples',\n",
       " 'precision_weighted',\n",
       " 'r2',\n",
       " 'rand_score',\n",
       " 'recall',\n",
       " 'recall_macro',\n",
       " 'recall_micro',\n",
       " 'recall_samples',\n",
       " 'recall_weighted',\n",
       " 'roc_auc',\n",
       " 'roc_auc_ovo',\n",
       " 'roc_auc_ovo_weighted',\n",
       " 'roc_auc_ovr',\n",
       " 'roc_auc_ovr_weighted',\n",
       " 'top_k_accuracy',\n",
       " 'v_measure_score']"
      ]
     },
     "execution_count": 135,
     "metadata": {},
     "output_type": "execute_result"
    }
   ],
   "source": [
    "import sklearn\n",
    "sorted(sklearn.metrics.SCORERS.keys())"
   ]
  },
  {
   "cell_type": "markdown",
   "id": "35d85003",
   "metadata": {},
   "source": [
    "### Tune to F1"
   ]
  },
  {
   "cell_type": "code",
   "execution_count": 167,
   "id": "b2540700",
   "metadata": {},
   "outputs": [
    {
     "data": {
      "text/plain": [
       "GridSearchCV(cv=3,\n",
       "             estimator=Pipeline(steps=[('standardizer', StandardScaler()),\n",
       "                                       ('rf',\n",
       "                                        RandomForestClassifier(class_weight='balanced',\n",
       "                                                               max_depth=30,\n",
       "                                                               min_samples_leaf=5,\n",
       "                                                               min_samples_split=3,\n",
       "                                                               n_estimators=140))]),\n",
       "             param_grid={'rf__max_depth': [30, 50],\n",
       "                         'rf__min_samples_leaf': [3, 5],\n",
       "                         'rf__min_samples_split': [2, 3],\n",
       "                         'rf__n_estimators': [120, 140]},\n",
       "             scoring='f1_macro')"
      ]
     },
     "execution_count": 167,
     "metadata": {},
     "output_type": "execute_result"
    }
   ],
   "source": [
    "# GridSearch, Fit, Score\n",
    "from sklearn.model_selection import GridSearchCV, TimeSeriesSplit, train_test_split\n",
    "RF_gs = GridSearchCV(pipe, param_grid=params ,scoring = 'f1_macro', cv = 3)\n",
    "RF_gs.fit(features, target)"
   ]
  },
  {
   "cell_type": "code",
   "execution_count": 168,
   "id": "ef8deb36",
   "metadata": {},
   "outputs": [
    {
     "data": {
      "text/plain": [
       "Pipeline(steps=[('standardizer', StandardScaler()),\n",
       "                ('rf',\n",
       "                 RandomForestClassifier(class_weight='balanced', max_depth=50,\n",
       "                                        min_samples_leaf=3,\n",
       "                                        n_estimators=140))])"
      ]
     },
     "execution_count": 168,
     "metadata": {},
     "output_type": "execute_result"
    }
   ],
   "source": [
    "RF_gs.best_estimator_"
   ]
  },
  {
   "cell_type": "code",
   "execution_count": 169,
   "id": "9a9ef1f4",
   "metadata": {},
   "outputs": [
    {
     "data": {
      "text/plain": [
       "0.5804592270622697"
      ]
     },
     "execution_count": 169,
     "metadata": {},
     "output_type": "execute_result"
    }
   ],
   "source": [
    "pipe = Pipeline([(\"standardizer\", StandardScaler()), (\"rf\", RandomForestClassifier(class_weight='balanced', max_depth=50,\n",
    "                                        min_samples_leaf=3, min_samples_split=3,\n",
    "                                        n_estimators=140))])\n",
    "pipe.fit(features, target)\n",
    "rf_preds = pipe.predict(test_features)\n",
    "accuracy_score(rf_preds, test_target)"
   ]
  },
  {
   "cell_type": "code",
   "execution_count": 170,
   "id": "5b8f8071",
   "metadata": {
    "scrolled": true
   },
   "outputs": [
    {
     "data": {
      "image/png": "[encoded data removed]",
      "text/plain": [
       "<Figure size 1440x720 with 1 Axes>"
      ]
     },
     "metadata": {
      "needs_background": "light"
     },
     "output_type": "display_data"
    }
   ],
   "source": [
    "matrix = confusion_matrix(test_target, rf_preds)\n",
    "df = pd.DataFrame(matrix)\n",
    "sn.heatmap(df, annot = True, cbar = None, cmap = \"Blues\", fmt='g')\n",
    "plt.show()"
   ]
  },
  {
   "cell_type": "code",
   "execution_count": 171,
   "id": "c31d2057",
   "metadata": {},
   "outputs": [
    {
     "name": "stdout",
     "output_type": "stream",
     "text": [
      "              precision    recall  f1-score   support\n",
      "\n",
      "           0       0.94      0.70      0.80     18683\n",
      "           1       0.22      0.69      0.33      1811\n",
      "           2       0.41      0.35      0.38      4656\n",
      "           3       0.36      0.37      0.36      4463\n",
      "           4       0.25      0.40      0.31      2136\n",
      "\n",
      "    accuracy                           0.58     31749\n",
      "   macro avg       0.43      0.50      0.44     31749\n",
      "weighted avg       0.69      0.58      0.62     31749\n",
      "\n"
     ]
    }
   ],
   "source": [
    "from sklearn.metrics import classification_report\n",
    "print(classification_report(test_target, rf_preds))"
   ]
  },
  {
   "cell_type": "markdown",
   "id": "7b935635",
   "metadata": {},
   "source": [
    "## Binary classification for approved"
   ]
  },
  {
   "cell_type": "code",
   "execution_count": 1,
   "id": "47a58db9",
   "metadata": {},
   "outputs": [
    {
     "name": "stdout",
     "output_type": "stream",
     "text": [
      "   Unnamed: 0        age    gender  height  weight     state  bmi_app_state  \\\n",
      "0           0  48.534878  0.419629    68.0   195.0  0.460410      29.646410   \n",
      "1           1  42.716825  0.419629    67.0   200.0  0.400000      31.321007   \n",
      "2           2  54.399474  0.419629    66.0   193.0  0.369467      31.147612   \n",
      "3           3  50.336420  0.408776    63.0   140.0  0.368101      24.797178   \n",
      "4           4  42.725039  0.408776    61.0   132.0  0.313194      24.938457   \n",
      "\n",
      "   income_app_state  current_ins  current_ins_value  ...  weight_loss  \\\n",
      "0             36400     0.408371                0.0  ...        False   \n",
      "1              9528     0.408371                0.0  ...        False   \n",
      "2              9396     0.408371                0.0  ...        False   \n",
      "3             82000     0.408371                0.0  ...         True   \n",
      "4             72000     0.408371                0.0  ...        False   \n",
      "\n",
      "   weight_loss_amount  weight_loss_reason  cancer_type   citizen  \\\n",
      "0                 0.0            0.421924     0.421476  0.410192   \n",
      "1                 0.0            0.421924     0.421476  0.410192   \n",
      "2                 0.0            0.421924     0.421476  0.410192   \n",
      "3                20.0            0.000377     0.421476  0.410192   \n",
      "4                 0.0            0.421924     0.421476  0.410192   \n",
      "\n",
      "   legal_resident  skydive_count  surgery_type  travel_countries  approved  \n",
      "0        0.416728            0.0      0.430839          0.411596         0  \n",
      "1        0.416728            0.0      0.430839          0.411596         0  \n",
      "2        0.416728            0.0      0.430839          0.411596         0  \n",
      "3        0.416728            0.0      0.430839          0.411596         0  \n",
      "4        0.416728            0.0      0.430839          0.411596         0  \n",
      "\n",
      "[5 rows x 67 columns]\n"
     ]
    }
   ],
   "source": [
    "# Create pipeline\n",
    "import pandas as pd\n",
    "from sklearn.model_selection import train_test_split\n",
    "from sklearn import metrics\n",
    "from sklearn.metrics import accuracy_score, confusion_matrix, classification_report\n",
    "from sklearn.inspection import permutation_importance\n",
    "from sklearn.preprocessing import StandardScaler\n",
    "from sklearn.pipeline import Pipeline, FeatureUnion\n",
    "\n",
    "df = pd.read_csv(r'C:\\Users\\milan\\Documents\\GitHub\\DSC-680\\approved.csv')\n",
    "print(df.head())\n",
    "\n",
    "train, test = train_test_split(df, test_size=0.2, random_state=42)\n",
    "\n",
    "features = train.drop('approved', axis=1)\n",
    "target = train['approved']\n",
    "test_features = test.drop('approved', axis=1)\n",
    "test_target = test['approved']"
   ]
  },
  {
   "cell_type": "markdown",
   "id": "2006a122",
   "metadata": {},
   "source": [
    "### XGBoost binary classifier"
   ]
  },
  {
   "cell_type": "code",
   "execution_count": 2,
   "id": "bfa7565c",
   "metadata": {},
   "outputs": [
    {
     "name": "stdout",
     "output_type": "stream",
     "text": [
      "Collecting hyperopt\n",
      "  Downloading hyperopt-0.2.7-py2.py3-none-any.whl (1.6 MB)\n",
      "Requirement already satisfied: py4j in c:\\users\\milan\\anaconda3\\lib\\site-packages (from hyperopt) (0.10.9.5)\n",
      "Requirement already satisfied: future in c:\\users\\milan\\anaconda3\\lib\\site-packages (from hyperopt) (0.18.2)\n",
      "Requirement already satisfied: scipy in c:\\users\\milan\\anaconda3\\lib\\site-packages (from hyperopt) (1.7.1)\n",
      "Requirement already satisfied: cloudpickle in c:\\users\\milan\\anaconda3\\lib\\site-packages (from hyperopt) (2.0.0)\n",
      "Requirement already satisfied: networkx>=2.2 in c:\\users\\milan\\anaconda3\\lib\\site-packages (from hyperopt) (2.6.3)\n",
      "Requirement already satisfied: tqdm in c:\\users\\milan\\anaconda3\\lib\\site-packages (from hyperopt) (4.62.3)\n",
      "Requirement already satisfied: numpy in c:\\users\\milan\\anaconda3\\lib\\site-packages (from hyperopt) (1.20.3)\n",
      "Requirement already satisfied: six in c:\\users\\milan\\anaconda3\\lib\\site-packages (from hyperopt) (1.16.0)\n",
      "Requirement already satisfied: colorama in c:\\users\\milan\\anaconda3\\lib\\site-packages (from tqdm->hyperopt) (0.4.4)\n",
      "Installing collected packages: hyperopt\n",
      "Successfully installed hyperopt-0.2.7\n",
      "Note: you may need to restart the kernel to use updated packages.\n"
     ]
    }
   ],
   "source": [
    "pip install hyperopt "
   ]
  },
  {
   "cell_type": "code",
   "execution_count": 3,
   "id": "f24d3717",
   "metadata": {},
   "outputs": [
    {
     "data": {
      "text/plain": [
       "0.895959846325443"
      ]
     },
     "execution_count": 3,
     "metadata": {},
     "output_type": "execute_result"
    }
   ],
   "source": [
    "# import numpy as np\n",
    "# import pandas as pd\n",
    "# import xgboost as xgb\n",
    "# from hyperopt import STATUS_OK, Trials, fmin, hp, tpe\n",
    "# from sklearn.preprocessing import StandardScaler\n",
    "# from sklearn.model_selection import train_test_split\n",
    "# from sklearn.metrics import accuracy_score, confusion_matrix, classification_report\n",
    "\n",
    "\n",
    "# df = pd.read_csv('approved.csv')\n",
    "# df.head()\n",
    "\n",
    "# train, test = train_test_split(df, test_size=0.2, random_state=42)\n",
    "\n",
    "# features = train.drop('approved', axis=1)\n",
    "# target = train['approved']\n",
    "# test_features = test.drop('approved', axis=1)\n",
    "# test_target = test['approved']\n",
    "\n",
    "# # Define the model parameters\n",
    "# params = {'objective': 'binary:logistic',\n",
    "#           'max_depth': 6,\n",
    "#           'learning_rate': 0.3,\n",
    "#           'n_estimators': 100}\n",
    "\n",
    "# # Train the XGBoost model on the training data\n",
    "# xgb_model = xgb.XGBClassifier(**params)\n",
    "# xgb_model.fit(features, target)\n",
    "\n",
    "# # Make predictions on the testing data\n",
    "# xgb_preds = xgb_model.predict(test_features)\n",
    "# accuracy_score(xgb_preds, test_target)"
   ]
  },
  {
   "cell_type": "code",
   "execution_count": 4,
   "id": "58145f5a",
   "metadata": {},
   "outputs": [],
   "source": [
    "from sklearn.metrics import roc_auc_score\n",
    "import xgboost as xgb\n",
    "from hyperopt import STATUS_OK, Trials, fmin, hp, tpe\n",
    "import pandas as pd\n",
    "import numpy as np\n",
    "import sklearn\n",
    "import seaborn as sns\n",
    "from sklearn.model_selection import train_test_split\n"
   ]
  },
  {
   "cell_type": "code",
   "execution_count": 5,
   "id": "046ae232",
   "metadata": {},
   "outputs": [],
   "source": [
    "df = pd.read_csv('approved.csv')\n",
    "df.head()\n",
    "\n",
    "train, test = train_test_split(df, test_size=0.2, random_state=42)\n",
    "\n",
    "features = train.drop('approved', axis=1)\n",
    "target = train['approved']\n",
    "test_features = test.drop('approved', axis=1)\n",
    "test_target = test['approved']"
   ]
  },
  {
   "cell_type": "code",
   "execution_count": 7,
   "id": "582d967a",
   "metadata": {},
   "outputs": [],
   "source": [
    "# Create classification matrices\n",
    "#To set enable_categorical to True, enable automatic encoding of Pandas category columns\n",
    "dtrain_class = xgb.DMatrix(features, target, enable_categorical=True)\n",
    "dtest_class = xgb.DMatrix(test_features, test_target, enable_categorical=True)"
   ]
  },
  {
   "cell_type": "code",
   "execution_count": 8,
   "id": "bcdcb86d",
   "metadata": {},
   "outputs": [],
   "source": [
    "hyperparameter_grid={'n_estimators': hp.quniform('n_estimators', 100, 1000, 1),\n",
    "                    'max_depth': hp.quniform(\"max_depth\", 3, 18, 1),\n",
    "                    'gamma': hp.quniform('gamma', 0.1, 1, 0.25),\n",
    "                    'reg_alpha' : hp.quniform('reg_alpha', 0,1,.01),\n",
    "                    'reg_lambda' : hp.quniform('reg_lambda', 0,1, .01),     \n",
    "                    'colsample_bytree': hp.quniform('colsample_bytree', 0.5, 1, 0.05),\n",
    "                    'min_child_weight' : hp.quniform('min_child_weight', 0, 10, 1),\n",
    "                    'n_estimators': 180,\n",
    "                    'eta': hp.quniform('eta', 0.025, 0.5, 0.05),\n",
    "                    'subsample': hp.quniform('subsample', 0.5, 1, 0.05),\n",
    "                    'seed': 0,\n",
    "                    'eval_metric': 'auc',\n",
    "                    'objective': 'binary:logistic',\n",
    "                    'booster': 'gbtree',\n",
    "                    'tree_method': 'exact'\n",
    "    }"
   ]
  },
  {
   "cell_type": "code",
   "execution_count": 13,
   "id": "01ccebca",
   "metadata": {},
   "outputs": [],
   "source": [
    "def objective(space):\n",
    "    params={'n_estimators':int(space['n_estimators']),\n",
    "            'max_depth' : int(space['max_depth']), \n",
    "            'gamma' : space['gamma'],\n",
    "            'reg_alpha' : space['reg_alpha'],\n",
    "            'reg_lambda' : space['reg_lambda'],\n",
    "            'colsample_bytree':int(space['colsample_bytree']),\n",
    "            'min_child_weight':int(space['min_child_weight']),\n",
    "            'eta': space['eta'],\n",
    "            'subsample':int(space['subsample']),\n",
    "            'eval_metric': 'auc',\n",
    "            'objective': 'binary:logistic',\n",
    "            'booster': 'gbtree',\n",
    "            'tree_method': 'hist'\n",
    "            }\n",
    "    num_round = int(params['n_estimators'])\n",
    "    del params['n_estimators']\n",
    "    model=xgb.train(params=params, dtrain=dtrain_class,verbose_eval=50, num_boost_round=num_round)\n",
    "    pred = model.predict(dtest_class, iteration_range=(1,model.best_ntree_limit))\n",
    "    score = roc_auc_score(test_target, pred)\n",
    "    print (\"SCORE:\", score)\n",
    "    return {'loss': 1-score, 'status': STATUS_OK }"
   ]
  },
  {
   "cell_type": "code",
   "execution_count": 14,
   "id": "0e2428d6",
   "metadata": {},
   "outputs": [
    {
     "name": "stdout",
     "output_type": "stream",
     "text": [
      "SCORE:                                                 \n",
      "0.5                                                    \n",
      "SCORE:                                                            \n",
      "0.5                                                               \n",
      "SCORE:                                                            \n",
      "0.5                                                               \n",
      "SCORE:                                                            \n",
      "0.5                                                               \n",
      "SCORE:                                                            \n",
      "0.5                                                               \n",
      "SCORE:                                                            \n",
      "0.5                                                               \n",
      "SCORE:                                                            \n",
      "0.9172676552895261                                                \n",
      "SCORE:                                                                            \n",
      "0.5                                                                               \n",
      "SCORE:                                                                            \n",
      "0.5                                                                               \n",
      "SCORE:                                                                            \n",
      "0.5                                                                               \n",
      "SCORE:                                                                             \n",
      "0.5                                                                                \n",
      "SCORE:                                                                             \n",
      "0.5                                                                                \n",
      "SCORE:                                                                             \n",
      "0.5                                                                                \n",
      "SCORE:                                                                             \n",
      "0.5                                                                                \n",
      "SCORE:                                                                             \n",
      "0.5                                                                                \n",
      "SCORE:                                                                             \n",
      "0.5                                                                                \n",
      "SCORE:                                                                             \n",
      "0.5                                                                                \n",
      "SCORE:                                                                             \n",
      "0.5                                                                                \n",
      "SCORE:                                                                             \n",
      "0.5                                                                                \n",
      "SCORE:                                                                             \n",
      "0.5                                                                                \n",
      "SCORE:                                                                             \n",
      "0.5                                                                                \n",
      "SCORE:                                                                             \n",
      "0.5                                                                                \n",
      "SCORE:                                                                             \n",
      "0.9433812051378272                                                                 \n",
      "SCORE:                                                                              \n",
      "0.9426138999749474                                                                  \n",
      "SCORE:                                                                              \n",
      "0.9426140717256534                                                                  \n",
      "SCORE:                                                                              \n",
      "0.5                                                                                 \n",
      "SCORE:                                                                              \n",
      "0.943315898412466                                                                   \n",
      "SCORE:                                                                              \n",
      "0.5                                                                                 \n",
      "SCORE:                                                                              \n",
      "0.5                                                                                 \n",
      "SCORE:                                                                              \n",
      "0.5                                                                                 \n",
      "SCORE:                                                                              \n",
      "0.9506757616417328                                                                  \n",
      "SCORE:                                                                              \n",
      "0.5                                                                                \n",
      "SCORE:                                                                             \n",
      "0.5                                                                                \n",
      "SCORE:                                                                             \n",
      "0.5                                                                                \n",
      "SCORE:                                                                             \n",
      "0.5                                                                                \n",
      "SCORE:                                                                             \n",
      "0.5                                                                                \n",
      "SCORE:                                                                             \n",
      "0.9446078723700999                                                                 \n",
      "SCORE:                                                                             \n",
      "0.5                                                                                \n",
      "SCORE:                                                                             \n",
      "0.5                                                                                \n",
      "SCORE:                                                                             \n",
      "0.5                                                                                \n",
      "SCORE:                                                                             \n",
      "0.5                                                                                \n",
      "SCORE:                                                                             \n",
      "0.5                                                                                \n",
      "SCORE:                                                                             \n",
      "0.5                                                                                \n",
      "SCORE:                                                                             \n",
      "0.9444683239343712                                                                 \n",
      "SCORE:                                                                             \n",
      "0.5                                                                                \n",
      "SCORE:                                                                             \n",
      "0.5                                                                                \n",
      "SCORE:                                                                             \n",
      "0.5                                                                                \n",
      "SCORE:                                                                             \n",
      "0.5                                                                                \n",
      "SCORE:                                                                             \n",
      "0.5                                                                                \n",
      "SCORE:                                                                             \n",
      "0.9300346709794229                                                                 \n"
     ]
    },
    {
     "name": "stdout",
     "output_type": "stream",
     "text": [
      "SCORE:                                                                             \n",
      "0.5                                                                                \n",
      "SCORE:                                                                             \n",
      "0.5                                                                                \n",
      "SCORE:                                                                             \n",
      "0.5                                                                                \n",
      "SCORE:                                                                             \n",
      "0.5                                                                                \n",
      "SCORE:                                                                             \n",
      "0.5                                                                                \n",
      "SCORE:                                                                             \n",
      "0.5                                                                                \n",
      "SCORE:                                                                             \n",
      "0.9443962221983184                                                                 \n",
      "SCORE:                                                                             \n",
      "0.9472756168625995                                                                 \n",
      "SCORE:                                                                             \n",
      "0.5                                                                                \n",
      "SCORE:                                                                             \n",
      "0.5                                                                                \n",
      "SCORE:                                                                             \n",
      "0.5                                                                                \n",
      "SCORE:                                                                             \n",
      "0.5                                                                                \n",
      "SCORE:                                                                             \n",
      "0.5                                                                                \n",
      "SCORE:                                                                             \n",
      "0.5                                                                                \n",
      "SCORE:                                                                             \n",
      "0.5                                                                                \n",
      "SCORE:                                                                             \n",
      "0.9446113251515351                                                                 \n",
      "SCORE:                                                                             \n",
      "0.9462108315802784                                                                 \n",
      "SCORE:                                                                             \n",
      "0.9458219721886411                                                                 \n",
      "SCORE:                                                                             \n",
      "0.5                                                                                \n",
      "SCORE:                                                                             \n",
      "0.9473109165680557                                                                 \n",
      "SCORE:                                                                             \n",
      "0.5                                                                                \n",
      "SCORE:                                                                             \n",
      "0.9472238192186339                                                                 \n",
      "SCORE:                                                                             \n",
      "0.5                                                                                \n",
      "SCORE:                                                                             \n",
      "0.5                                                                                \n",
      "SCORE:                                                                             \n",
      "0.5                                                                                \n",
      "SCORE:                                                                             \n",
      "0.9457320458879351                                                                 \n",
      "SCORE:                                                                             \n",
      "0.5                                                                                \n",
      "SCORE:                                                                             \n",
      "0.5                                                                                \n",
      "SCORE:                                                                             \n",
      "0.9423308982426105                                                                 \n",
      "SCORE:                                                                             \n",
      "0.5                                                                                \n",
      "SCORE:                                                                             \n",
      "0.5                                                                                \n",
      "SCORE:                                                                             \n",
      "0.5                                                                                \n",
      "SCORE:                                                                             \n",
      "0.5                                                                                \n",
      "SCORE:                                                                             \n",
      "0.5                                                                                \n",
      "SCORE:                                                                             \n",
      "0.9482485510518195                                                                 \n",
      "SCORE:                                                                             \n",
      "0.5                                                                                \n",
      "SCORE:                                                                             \n",
      "0.5                                                                                \n",
      "SCORE:                                                                             \n",
      "0.5                                                                                \n",
      "SCORE:                                                                             \n",
      "0.5                                                                                \n",
      "SCORE:                                                                             \n",
      "0.5                                                                                \n",
      "SCORE:                                                                             \n",
      "0.9479270416267014                                                                 \n",
      "SCORE:                                                                             \n",
      "0.5                                                                                \n",
      "SCORE:                                                                             \n",
      "0.9398212453396532                                                                 \n",
      "SCORE:                                                                             \n",
      "0.5                                                                                \n",
      "SCORE:                                                                             \n",
      "0.5                                                                                \n",
      "SCORE:                                                                             \n",
      "0.5                                                                                \n",
      "SCORE:                                                                             \n",
      "0.5                                                                                \n",
      "SCORE:                                                                             \n",
      "0.5                                                                                \n",
      "SCORE:                                                                             \n"
     ]
    },
    {
     "name": "stdout",
     "output_type": "stream",
     "text": [
      "0.9446757494336135                                                                 \n",
      "SCORE:                                                                             \n",
      "0.5                                                                                \n",
      "SCORE:                                                                              \n",
      "0.9490644932508447                                                                  \n",
      "SCORE:                                                                              \n",
      "0.5                                                                                 \n",
      "SCORE:                                                                              \n",
      "0.5                                                                                 \n",
      "SCORE:                                                                              \n",
      "0.5                                                                                 \n",
      "SCORE:                                                                              \n",
      "0.9461999777253152                                                                  \n",
      "SCORE:                                                                              \n",
      "0.5                                                                                 \n",
      "SCORE:                                                                              \n",
      "0.5                                                                                 \n",
      "SCORE:                                                                              \n",
      "0.5                                                                                 \n",
      "SCORE:                                                                              \n",
      "0.5                                                                                 \n",
      "SCORE:                                                                              \n",
      "0.5                                                                                 \n",
      "SCORE:                                                                              \n",
      "0.5                                                                                 \n",
      "SCORE:                                                                              \n",
      "0.9491032714016345                                                                  \n",
      "SCORE:                                                                              \n",
      "0.5                                                                                 \n",
      "SCORE:                                                                              \n",
      "0.5                                                                                 \n",
      "SCORE:                                                                              \n",
      "0.5                                                                                 \n",
      "SCORE:                                                                              \n",
      "0.94732693281493                                                                    \n",
      "SCORE:                                                                              \n",
      "0.5                                                                                 \n",
      "SCORE:                                                                              \n",
      "0.9472458250246132                                                                  \n",
      "SCORE:                                                                              \n",
      "0.5                                                                                 \n",
      "SCORE:                                                                              \n",
      "0.5                                                                                 \n",
      "SCORE:                                                                              \n",
      "0.5                                                                                 \n",
      "SCORE:                                                                              \n",
      "0.5                                                                                 \n",
      "SCORE:                                                                              \n",
      "0.9352903886709791                                                                  \n",
      "SCORE:                                                                              \n",
      "0.5                                                                                 \n",
      "SCORE:                                                                              \n",
      "0.5                                                                                 \n",
      "SCORE:                                                                              \n",
      "0.9492664247016399                                                                  \n",
      "SCORE:                                                                              \n",
      "0.5                                                                                 \n",
      "SCORE:                                                                              \n",
      "0.5                                                                                 \n",
      "SCORE:                                                                              \n",
      "0.5                                                                                 \n",
      "SCORE:                                                                              \n",
      "0.5                                                                                 \n",
      "SCORE:                                                                              \n",
      "0.5                                                                                 \n",
      "SCORE:                                                                              \n",
      "0.5                                                                                 \n",
      "SCORE:                                                                              \n",
      "0.9550945776256886                                                                  \n",
      "SCORE:                                                                              \n",
      "0.5                                                                                 \n",
      "SCORE:                                                                              \n",
      "0.9397416951505673                                                                  \n",
      "SCORE:                                                                              \n",
      "0.5                                                                                 \n",
      "SCORE:                                                                              \n",
      "0.5                                                                                 \n",
      "SCORE:                                                                              \n",
      "0.5                                                                                 \n",
      "SCORE:                                                                              \n",
      "0.5                                                                                 \n",
      "SCORE:                                                                              \n",
      "0.5                                                                                 \n",
      "SCORE:                                                                              \n",
      "0.5                                                                                 \n",
      "SCORE:                                                                              \n",
      "0.5                                                                                 \n",
      "SCORE:                                                                              \n",
      "0.935969717989447                                                                   \n",
      "SCORE:                                                                              \n",
      "0.5                                                                                 \n",
      "SCORE:                                                                              \n",
      "0.9483368407854529                                                                  \n",
      "SCORE:                                                                              \n",
      "0.9423902706849561                                                                  \n",
      "SCORE:                                                                              \n"
     ]
    },
    {
     "name": "stdout",
     "output_type": "stream",
     "text": [
      "0.9492123429706986                                                                  \n",
      "SCORE:                                                                              \n",
      "0.5                                                                                 \n",
      "SCORE:                                                                              \n",
      "0.9471866105139511                                                                  \n",
      "SCORE:                                                                              \n",
      "0.5                                                                                 \n",
      "SCORE:                                                                              \n",
      "0.5                                                                                 \n",
      "SCORE:                                                                              \n",
      "0.9493315399348345                                                                  \n",
      "SCORE:                                                                              \n",
      "0.9291611409660778                                                                  \n",
      "SCORE:                                                                              \n",
      "0.9473642639166677                                                                  \n",
      "SCORE:                                                                              \n",
      "0.5                                                                                 \n",
      "SCORE:                                                                              \n",
      "0.5                                                                                 \n",
      "SCORE:                                                                              \n",
      "0.9360017445607578                                                                  \n",
      "SCORE:                                                                              \n",
      "0.5                                                                                 \n",
      "SCORE:                                                                              \n",
      "0.9490402270476422                                                                  \n",
      "SCORE:                                                                              \n",
      "0.5                                                                                 \n",
      "SCORE:                                                                              \n",
      "0.5                                                                                 \n",
      "SCORE:                                                                              \n",
      "0.9444257830612173                                                                  \n",
      "SCORE:                                                                              \n",
      "0.5                                                                                 \n",
      "SCORE:                                                                              \n",
      "0.9443527554506687                                                                  \n",
      "SCORE:                                                                              \n",
      "0.5                                                                                 \n",
      "SCORE:                                                                              \n",
      "0.5                                                                                 \n",
      "SCORE:                                                                              \n",
      "0.5                                                                                 \n",
      "SCORE:                                                                              \n",
      "0.5                                                                                 \n",
      "SCORE:                                                                              \n",
      "0.5                                                                                 \n",
      "SCORE:                                                                              \n",
      "0.9474065520991277                                                                  \n",
      "SCORE:                                                                              \n",
      "0.948439865545177                                                                   \n",
      "SCORE:                                                                              \n",
      "0.5                                                                                 \n",
      "SCORE:                                                                              \n",
      "0.5                                                                                 \n",
      "SCORE:                                                                              \n",
      "0.9510160530923363                                                                  \n",
      "SCORE:                                                                              \n",
      "0.5                                                                                 \n",
      "SCORE:                                                                              \n",
      "0.5                                                                                 \n",
      "SCORE:                                                                              \n",
      "0.5                                                                                 \n",
      "SCORE:                                                                              \n",
      "0.9445927227733398                                                                  \n",
      "SCORE:                                                                              \n",
      "0.5                                                                                 \n",
      "SCORE:                                                                              \n",
      "0.9473147681269919                                                                  \n",
      "SCORE:                                                                              \n",
      "0.9460713423689312                                                                  \n",
      "SCORE:                                                                              \n",
      "0.5                                                                                 \n",
      "SCORE:                                                                              \n",
      "0.5                                                                                 \n",
      "SCORE:                                                                              \n",
      "0.5                                                                                 \n",
      "SCORE:                                                                              \n",
      "0.5                                                                                 \n",
      "SCORE:                                                                              \n",
      "0.5                                                                                 \n",
      "SCORE:                                                                              \n",
      "0.950626173067193                                                                   \n",
      "SCORE:                                                                              \n",
      "0.5                                                                                 \n",
      "SCORE:                                                                              \n",
      "0.5                                                                                 \n",
      "SCORE:                                                                              \n",
      "0.5                                                                                 \n",
      "SCORE:                                                                              \n",
      "0.5                                                                                 \n",
      "SCORE:                                                                              \n",
      "0.5                                                                                 \n",
      "SCORE:                                                                              \n",
      "0.9442556708963983                                                                  \n",
      "SCORE:                                                                              \n",
      "0.5                                                                                 \n",
      "SCORE:                                                                              \n"
     ]
    },
    {
     "name": "stdout",
     "output_type": "stream",
     "text": [
      "0.5                                                                                 \n",
      "SCORE:                                                                              \n",
      "0.9511180118131951                                                                  \n",
      "SCORE:                                                                              \n",
      "0.9424332971980375                                                                  \n",
      "SCORE:                                                                              \n",
      "0.5                                                                                 \n",
      "SCORE:                                                                              \n",
      "0.5                                                                                 \n",
      "SCORE:                                                                              \n",
      "0.9444736620252809                                                                  \n",
      "100%|██████████| 200/200 [03:45<00:00,  1.13s/trial, best loss: 0.04490542237431139]\n"
     ]
    }
   ],
   "source": [
    "trials = Trials()\n",
    "\n",
    "best_hyperparams = fmin(fn = objective,\n",
    "                        space = hyperparameter_grid,\n",
    "                        algo = tpe.suggest,\n",
    "                        max_evals = 200,\n",
    "                        trials = trials)"
   ]
  },
  {
   "cell_type": "code",
   "execution_count": 17,
   "id": "db7dafb4",
   "metadata": {},
   "outputs": [
    {
     "data": {
      "text/plain": [
       "{'colsample_bytree': 1.0,\n",
       " 'eta': 0.05,\n",
       " 'gamma': 1.0,\n",
       " 'max_depth': 11.0,\n",
       " 'min_child_weight': 4.0,\n",
       " 'reg_alpha': 0.96,\n",
       " 'reg_lambda': 0.37,\n",
       " 'subsample': 1.0}"
      ]
     },
     "execution_count": 17,
     "metadata": {},
     "output_type": "execute_result"
    }
   ],
   "source": [
    "best_hyperparams"
   ]
  },
  {
   "cell_type": "code",
   "execution_count": 18,
   "id": "7cb2962e",
   "metadata": {},
   "outputs": [
    {
     "ename": "AssertionError",
     "evalue": "Must have at least 1 validation dataset for early stopping.",
     "output_type": "error",
     "traceback": [
      "\u001b[1;31m---------------------------------------------------------------------------\u001b[0m",
      "\u001b[1;31mAssertionError\u001b[0m                            Traceback (most recent call last)",
      "\u001b[1;32m~\\AppData\\Local\\Temp/ipykernel_12332/3977279483.py\u001b[0m in \u001b[0;36m<module>\u001b[1;34m\u001b[0m\n\u001b[0;32m     14\u001b[0m }\n\u001b[0;32m     15\u001b[0m \u001b[1;33m\u001b[0m\u001b[0m\n\u001b[1;32m---> 16\u001b[1;33m model = xgb.train(params=params,dtrain=dtrain_class,\n\u001b[0m\u001b[0;32m     17\u001b[0m                   \u001b[0mverbose_eval\u001b[0m\u001b[1;33m=\u001b[0m\u001b[1;36m100\u001b[0m\u001b[1;33m,\u001b[0m\u001b[1;33m\u001b[0m\u001b[1;33m\u001b[0m\u001b[0m\n\u001b[0;32m     18\u001b[0m                   \u001b[0mearly_stopping_rounds\u001b[0m\u001b[1;33m=\u001b[0m\u001b[1;36m200\u001b[0m \u001b[1;31m# Activate early stopping\u001b[0m\u001b[1;33m\u001b[0m\u001b[1;33m\u001b[0m\u001b[0m\n",
      "\u001b[1;32m~\\anaconda3\\lib\\site-packages\\xgboost\\core.py\u001b[0m in \u001b[0;36minner_f\u001b[1;34m(*args, **kwargs)\u001b[0m\n\u001b[0;32m    618\u001b[0m             \u001b[1;32mfor\u001b[0m \u001b[0mk\u001b[0m\u001b[1;33m,\u001b[0m \u001b[0marg\u001b[0m \u001b[1;32min\u001b[0m \u001b[0mzip\u001b[0m\u001b[1;33m(\u001b[0m\u001b[0msig\u001b[0m\u001b[1;33m.\u001b[0m\u001b[0mparameters\u001b[0m\u001b[1;33m,\u001b[0m \u001b[0margs\u001b[0m\u001b[1;33m)\u001b[0m\u001b[1;33m:\u001b[0m\u001b[1;33m\u001b[0m\u001b[1;33m\u001b[0m\u001b[0m\n\u001b[0;32m    619\u001b[0m                 \u001b[0mkwargs\u001b[0m\u001b[1;33m[\u001b[0m\u001b[0mk\u001b[0m\u001b[1;33m]\u001b[0m \u001b[1;33m=\u001b[0m \u001b[0marg\u001b[0m\u001b[1;33m\u001b[0m\u001b[1;33m\u001b[0m\u001b[0m\n\u001b[1;32m--> 620\u001b[1;33m             \u001b[1;32mreturn\u001b[0m \u001b[0mfunc\u001b[0m\u001b[1;33m(\u001b[0m\u001b[1;33m**\u001b[0m\u001b[0mkwargs\u001b[0m\u001b[1;33m)\u001b[0m\u001b[1;33m\u001b[0m\u001b[1;33m\u001b[0m\u001b[0m\n\u001b[0m\u001b[0;32m    621\u001b[0m \u001b[1;33m\u001b[0m\u001b[0m\n\u001b[0;32m    622\u001b[0m         \u001b[1;32mreturn\u001b[0m \u001b[0minner_f\u001b[0m\u001b[1;33m\u001b[0m\u001b[1;33m\u001b[0m\u001b[0m\n",
      "\u001b[1;32m~\\anaconda3\\lib\\site-packages\\xgboost\\training.py\u001b[0m in \u001b[0;36mtrain\u001b[1;34m(params, dtrain, num_boost_round, evals, obj, feval, maximize, early_stopping_rounds, evals_result, verbose_eval, xgb_model, callbacks, custom_metric)\u001b[0m\n\u001b[0;32m    184\u001b[0m             \u001b[1;32mbreak\u001b[0m\u001b[1;33m\u001b[0m\u001b[1;33m\u001b[0m\u001b[0m\n\u001b[0;32m    185\u001b[0m         \u001b[0mbst\u001b[0m\u001b[1;33m.\u001b[0m\u001b[0mupdate\u001b[0m\u001b[1;33m(\u001b[0m\u001b[0mdtrain\u001b[0m\u001b[1;33m,\u001b[0m \u001b[0mi\u001b[0m\u001b[1;33m,\u001b[0m \u001b[0mobj\u001b[0m\u001b[1;33m)\u001b[0m\u001b[1;33m\u001b[0m\u001b[1;33m\u001b[0m\u001b[0m\n\u001b[1;32m--> 186\u001b[1;33m         \u001b[1;32mif\u001b[0m \u001b[0mcb_container\u001b[0m\u001b[1;33m.\u001b[0m\u001b[0mafter_iteration\u001b[0m\u001b[1;33m(\u001b[0m\u001b[0mbst\u001b[0m\u001b[1;33m,\u001b[0m \u001b[0mi\u001b[0m\u001b[1;33m,\u001b[0m \u001b[0mdtrain\u001b[0m\u001b[1;33m,\u001b[0m \u001b[0mevals\u001b[0m\u001b[1;33m)\u001b[0m\u001b[1;33m:\u001b[0m\u001b[1;33m\u001b[0m\u001b[1;33m\u001b[0m\u001b[0m\n\u001b[0m\u001b[0;32m    187\u001b[0m             \u001b[1;32mbreak\u001b[0m\u001b[1;33m\u001b[0m\u001b[1;33m\u001b[0m\u001b[0m\n\u001b[0;32m    188\u001b[0m \u001b[1;33m\u001b[0m\u001b[0m\n",
      "\u001b[1;32m~\\anaconda3\\lib\\site-packages\\xgboost\\callback.py\u001b[0m in \u001b[0;36mafter_iteration\u001b[1;34m(self, model, epoch, dtrain, evals)\u001b[0m\n\u001b[0;32m    245\u001b[0m             \u001b[0mmetric_score\u001b[0m \u001b[1;33m=\u001b[0m \u001b[1;33m[\u001b[0m\u001b[1;33m(\u001b[0m\u001b[0mn\u001b[0m\u001b[1;33m,\u001b[0m \u001b[0mfloat\u001b[0m\u001b[1;33m(\u001b[0m\u001b[0ms\u001b[0m\u001b[1;33m)\u001b[0m\u001b[1;33m)\u001b[0m \u001b[1;32mfor\u001b[0m \u001b[0mn\u001b[0m\u001b[1;33m,\u001b[0m \u001b[0ms\u001b[0m \u001b[1;32min\u001b[0m \u001b[0mmetric_score_str\u001b[0m\u001b[1;33m]\u001b[0m\u001b[1;33m\u001b[0m\u001b[1;33m\u001b[0m\u001b[0m\n\u001b[0;32m    246\u001b[0m             \u001b[0mself\u001b[0m\u001b[1;33m.\u001b[0m\u001b[0m_update_history\u001b[0m\u001b[1;33m(\u001b[0m\u001b[0mmetric_score\u001b[0m\u001b[1;33m,\u001b[0m \u001b[0mepoch\u001b[0m\u001b[1;33m)\u001b[0m\u001b[1;33m\u001b[0m\u001b[1;33m\u001b[0m\u001b[0m\n\u001b[1;32m--> 247\u001b[1;33m         ret = any(c.after_iteration(model, epoch, self.history)\n\u001b[0m\u001b[0;32m    248\u001b[0m                   for c in self.callbacks)\n\u001b[0;32m    249\u001b[0m         \u001b[1;32mreturn\u001b[0m \u001b[0mret\u001b[0m\u001b[1;33m\u001b[0m\u001b[1;33m\u001b[0m\u001b[0m\n",
      "\u001b[1;32m~\\anaconda3\\lib\\site-packages\\xgboost\\callback.py\u001b[0m in \u001b[0;36m<genexpr>\u001b[1;34m(.0)\u001b[0m\n\u001b[0;32m    245\u001b[0m             \u001b[0mmetric_score\u001b[0m \u001b[1;33m=\u001b[0m \u001b[1;33m[\u001b[0m\u001b[1;33m(\u001b[0m\u001b[0mn\u001b[0m\u001b[1;33m,\u001b[0m \u001b[0mfloat\u001b[0m\u001b[1;33m(\u001b[0m\u001b[0ms\u001b[0m\u001b[1;33m)\u001b[0m\u001b[1;33m)\u001b[0m \u001b[1;32mfor\u001b[0m \u001b[0mn\u001b[0m\u001b[1;33m,\u001b[0m \u001b[0ms\u001b[0m \u001b[1;32min\u001b[0m \u001b[0mmetric_score_str\u001b[0m\u001b[1;33m]\u001b[0m\u001b[1;33m\u001b[0m\u001b[1;33m\u001b[0m\u001b[0m\n\u001b[0;32m    246\u001b[0m             \u001b[0mself\u001b[0m\u001b[1;33m.\u001b[0m\u001b[0m_update_history\u001b[0m\u001b[1;33m(\u001b[0m\u001b[0mmetric_score\u001b[0m\u001b[1;33m,\u001b[0m \u001b[0mepoch\u001b[0m\u001b[1;33m)\u001b[0m\u001b[1;33m\u001b[0m\u001b[1;33m\u001b[0m\u001b[0m\n\u001b[1;32m--> 247\u001b[1;33m         ret = any(c.after_iteration(model, epoch, self.history)\n\u001b[0m\u001b[0;32m    248\u001b[0m                   for c in self.callbacks)\n\u001b[0;32m    249\u001b[0m         \u001b[1;32mreturn\u001b[0m \u001b[0mret\u001b[0m\u001b[1;33m\u001b[0m\u001b[1;33m\u001b[0m\u001b[0m\n",
      "\u001b[1;32m~\\anaconda3\\lib\\site-packages\\xgboost\\callback.py\u001b[0m in \u001b[0;36mafter_iteration\u001b[1;34m(self, model, epoch, evals_log)\u001b[0m\n\u001b[0;32m    410\u001b[0m         \u001b[0mepoch\u001b[0m \u001b[1;33m+=\u001b[0m \u001b[0mself\u001b[0m\u001b[1;33m.\u001b[0m\u001b[0mstarting_round\u001b[0m  \u001b[1;31m# training continuation\u001b[0m\u001b[1;33m\u001b[0m\u001b[1;33m\u001b[0m\u001b[0m\n\u001b[0;32m    411\u001b[0m         \u001b[0mmsg\u001b[0m \u001b[1;33m=\u001b[0m \u001b[1;34m'Must have at least 1 validation dataset for early stopping.'\u001b[0m\u001b[1;33m\u001b[0m\u001b[1;33m\u001b[0m\u001b[0m\n\u001b[1;32m--> 412\u001b[1;33m         \u001b[1;32massert\u001b[0m \u001b[0mlen\u001b[0m\u001b[1;33m(\u001b[0m\u001b[0mevals_log\u001b[0m\u001b[1;33m.\u001b[0m\u001b[0mkeys\u001b[0m\u001b[1;33m(\u001b[0m\u001b[1;33m)\u001b[0m\u001b[1;33m)\u001b[0m \u001b[1;33m>=\u001b[0m \u001b[1;36m1\u001b[0m\u001b[1;33m,\u001b[0m \u001b[0mmsg\u001b[0m\u001b[1;33m\u001b[0m\u001b[1;33m\u001b[0m\u001b[0m\n\u001b[0m\u001b[0;32m    413\u001b[0m         \u001b[0mdata_name\u001b[0m \u001b[1;33m=\u001b[0m \u001b[1;34m''\u001b[0m\u001b[1;33m\u001b[0m\u001b[1;33m\u001b[0m\u001b[0m\n\u001b[0;32m    414\u001b[0m         \u001b[1;32mif\u001b[0m \u001b[0mself\u001b[0m\u001b[1;33m.\u001b[0m\u001b[0mdata\u001b[0m\u001b[1;33m:\u001b[0m\u001b[1;33m\u001b[0m\u001b[1;33m\u001b[0m\u001b[0m\n",
      "\u001b[1;31mAssertionError\u001b[0m: Must have at least 1 validation dataset for early stopping."
     ]
    }
   ],
   "source": [
    "params = {\n",
    "\n",
    "    'max_depth':int(best_hyperparams['max_depth']),\n",
    "    'min_child_weight': int(best_hyperparams['min_child_weight']),\n",
    "    'eta':best_hyperparams['eta'],\n",
    "    'subsample': best_hyperparams['subsample'],\n",
    "    'colsample_bytree': best_hyperparams['colsample_bytree'],\n",
    "    'gamma':best_hyperparams['gamma'],\n",
    "    'reg_alpha': best_hyperparams['reg_alpha'], \n",
    "    'reg_lambda': best_hyperparams['reg_lambda'],\n",
    "    \"objective\": \"binary:logistic\", \n",
    "    \"tree_method\": \"hist\",\n",
    "    'eval_metric':'auc'\n",
    "}\n",
    "\n",
    "model = xgb.train(params=params,dtrain=dtrain_class,num_boost_round=num_round,\n",
    "                  verbose_eval=100,\n",
    "                  early_stopping_rounds=200 # Activate early stopping\n",
    "                 )"
   ]
  },
  {
   "cell_type": "code",
   "execution_count": null,
   "id": "8d44e543",
   "metadata": {},
   "outputs": [],
   "source": [
    "y_pred = model.predict(dtest_class)\n",
    "predictions = [round(value) for value in y_pred]\n",
    "# evaluate predictions\n",
    "accuracy = accuracy_score(test_target, predictions)\n",
    "print(\"Accuracy: %.2f%%\" % (accuracy * 100.0))"
   ]
  },
  {
   "cell_type": "code",
   "execution_count": null,
   "id": "ce4656a2",
   "metadata": {},
   "outputs": [],
   "source": []
  },
  {
   "cell_type": "code",
   "execution_count": null,
   "id": "7ad6689f",
   "metadata": {},
   "outputs": [],
   "source": []
  },
  {
   "cell_type": "code",
   "execution_count": 8,
   "id": "22b14cbe",
   "metadata": {},
   "outputs": [
    {
     "ename": "NameError",
     "evalue": "name 'confusion_matrix' is not defined",
     "output_type": "error",
     "traceback": [
      "\u001b[1;31m---------------------------------------------------------------------------\u001b[0m",
      "\u001b[1;31mNameError\u001b[0m                                 Traceback (most recent call last)",
      "\u001b[1;32m~\\AppData\\Local\\Temp/ipykernel_39132/1234804582.py\u001b[0m in \u001b[0;36m<module>\u001b[1;34m\u001b[0m\n\u001b[0;32m      2\u001b[0m \u001b[0mclass_names\u001b[0m \u001b[1;33m=\u001b[0m \u001b[1;33m[\u001b[0m\u001b[1;34m'elite'\u001b[0m\u001b[1;33m,\u001b[0m \u001b[1;34m'preferred'\u001b[0m\u001b[1;33m,\u001b[0m \u001b[1;34m'select'\u001b[0m\u001b[1;33m,\u001b[0m \u001b[1;34m'essential'\u001b[0m\u001b[1;33m]\u001b[0m\u001b[1;33m\u001b[0m\u001b[1;33m\u001b[0m\u001b[0m\n\u001b[0;32m      3\u001b[0m \u001b[1;33m\u001b[0m\u001b[0m\n\u001b[1;32m----> 4\u001b[1;33m \u001b[0mmatrix\u001b[0m \u001b[1;33m=\u001b[0m \u001b[0mconfusion_matrix\u001b[0m\u001b[1;33m(\u001b[0m\u001b[0mtest_target\u001b[0m\u001b[1;33m,\u001b[0m \u001b[0mcat_preds\u001b[0m\u001b[1;33m,\u001b[0m \u001b[0mlabels\u001b[0m \u001b[1;33m=\u001b[0m \u001b[0mlabels\u001b[0m\u001b[1;33m)\u001b[0m\u001b[1;33m\u001b[0m\u001b[1;33m\u001b[0m\u001b[0m\n\u001b[0m\u001b[0;32m      5\u001b[0m \u001b[0mdf\u001b[0m \u001b[1;33m=\u001b[0m \u001b[0mpd\u001b[0m\u001b[1;33m.\u001b[0m\u001b[0mDataFrame\u001b[0m\u001b[1;33m(\u001b[0m\u001b[0mmatrix\u001b[0m\u001b[1;33m,\u001b[0m \u001b[0mindex\u001b[0m\u001b[1;33m=\u001b[0m\u001b[0mclass_names\u001b[0m\u001b[1;33m,\u001b[0m \u001b[0mcolumns\u001b[0m\u001b[1;33m=\u001b[0m\u001b[0mclass_names\u001b[0m\u001b[1;33m)\u001b[0m\u001b[1;33m\u001b[0m\u001b[1;33m\u001b[0m\u001b[0m\n\u001b[0;32m      6\u001b[0m \u001b[1;33m\u001b[0m\u001b[0m\n",
      "\u001b[1;31mNameError\u001b[0m: name 'confusion_matrix' is not defined"
     ]
    }
   ],
   "source": [
    "labels = [0,3,1,2]\n",
    "class_names = ['elite', 'preferred', 'select', 'essential']\n",
    "\n",
    "matrix = confusion_matrix(test_target, cat_preds, labels = labels)\n",
    "df = pd.DataFrame(matrix, index=class_names, columns=class_names)\n",
    "\n",
    "fig, ax = plt.subplots(figsize=(12, 6))\n",
    "\n",
    "sn.heatmap(df, annot=True, cbar=None, cmap=\"Blues\", fmt='g', annot_kws={\"size\": 16, \"weight\": \"bold\"})\n",
    "\n",
    "    \n",
    "plt.xlabel('Predicted Class', fontsize=14)\n",
    "plt.ylabel('True Class', fontsize=14)\n",
    "plt.xticks(fontsize=12)\n",
    "plt.yticks(fontsize=12)\n",
    "plt.show()"
   ]
  },
  {
   "cell_type": "code",
   "execution_count": 44,
   "id": "127b6297",
   "metadata": {},
   "outputs": [
    {
     "data": {
      "image/png": "[encoded data removed]",
      "text/plain": [
       "<Figure size 720x432 with 1 Axes>"
      ]
     },
     "metadata": {
      "needs_background": "light"
     },
     "output_type": "display_data"
    }
   ],
   "source": [
    "import seaborn as sn\n",
    "import matplotlib.pyplot as plt\n",
    "\n",
    "matrix = confusion_matrix(test_target, xgb_preds)\n",
    "df = pd.DataFrame(matrix)\n",
    "fig, ax = plt.subplots(figsize=(10, 6))\n",
    "sn.heatmap(df, annot = True, cbar = None, cmap = \"Blues\", fmt='g')\n",
    "plt.show()"
   ]
  },
  {
   "cell_type": "code",
   "execution_count": 45,
   "id": "cefdba0c",
   "metadata": {},
   "outputs": [
    {
     "name": "stdout",
     "output_type": "stream",
     "text": [
      "              precision    recall  f1-score   support\n",
      "\n",
      "           0       0.91      0.85      0.88     18814\n",
      "           1       0.81      0.89      0.85     13462\n",
      "\n",
      "    accuracy                           0.87     32276\n",
      "   macro avg       0.86      0.87      0.87     32276\n",
      "weighted avg       0.87      0.87      0.87     32276\n",
      "\n"
     ]
    }
   ],
   "source": [
    "from sklearn.metrics import classification_report\n",
    "print(classification_report(test_target, xgb_preds))"
   ]
  },
  {
   "cell_type": "markdown",
   "id": "669a836d",
   "metadata": {},
   "source": [
    "### Multilcass classification on approved risk classes"
   ]
  },
  {
   "cell_type": "code",
   "execution_count": 9,
   "id": "d50bb45f",
   "metadata": {},
   "outputs": [
    {
     "data": {
      "image/png": "[encoded data removed]",
      "text/plain": [
       "<Figure size 864x432 with 1 Axes>"
      ]
     },
     "metadata": {
      "needs_background": "light"
     },
     "output_type": "display_data"
    }
   ],
   "source": [
    "import numpy as np\n",
    "import pandas as pd\n",
    "import seaborn as sn\n",
    "import matplotlib.pyplot as plt\n",
    "from sklearn.metrics import confusion_matrix\n",
    "\n",
    "labels = [0,3,1,2]\n",
    "class_names = ['elite', 'preferred', 'select', 'essential']\n",
    "\n",
    "matrix = confusion_matrix(test_target, cat_preds, labels = labels)\n",
    "# df = pd.DataFrame(matrix, index=class_names, columns=class_names)\n",
    "\n",
    "fig, ax = plt.subplots(figsize=(12, 6))\n",
    "\n",
    "totals = np.sum(matrix)\n",
    "percent_matrix = np.round(matrix / totals * 100, 1)\n",
    "df = pd.DataFrame(percent_matrix, index=class_names, columns=class_names)\n",
    "res = sn.heatmap(df, annot=True, cbar=None, cmap=\"Blues\",  annot_kws={\"size\": 16, \"weight\": \"bold\"})\n",
    "\n",
    "for t in res.texts: t.set_text(t.get_text() + \" %\")\n",
    "    \n",
    "plt.xlabel('Predicted Class', fontsize=14)\n",
    "plt.ylabel('True Class', fontsize=14)\n",
    "plt.xticks(fontsize=12)\n",
    "plt.yticks(fontsize=12)\n",
    "plt.show()\n"
   ]
  },
  {
   "cell_type": "code",
   "execution_count": 10,
   "id": "6666461f",
   "metadata": {},
   "outputs": [
    {
     "name": "stdout",
     "output_type": "stream",
     "text": [
      "              precision    recall  f1-score   support\n",
      "\n",
      "           0       0.42      0.41      0.41      1761\n",
      "           1       0.47      0.58      0.52      4505\n",
      "           2       0.55      0.53      0.54      4400\n",
      "           3       0.49      0.28      0.36      2184\n",
      "\n",
      "    accuracy                           0.49     12850\n",
      "   macro avg       0.48      0.45      0.46     12850\n",
      "weighted avg       0.49      0.49      0.48     12850\n",
      "\n"
     ]
    }
   ],
   "source": [
    "print(classification_report(test_target, cat_preds))"
   ]
  },
  {
   "cell_type": "markdown",
   "id": "d372b733",
   "metadata": {},
   "source": [
    "#### Accuracy for males vs. females"
   ]
  },
  {
   "cell_type": "code",
   "execution_count": 11,
   "id": "6ef8ee45",
   "metadata": {},
   "outputs": [
    {
     "data": {
      "text/html": [
       "<div>\n",
       "<style scoped>\n",
       "    .dataframe tbody tr th:only-of-type {\n",
       "        vertical-align: middle;\n",
       "    }\n",
       "\n",
       "    .dataframe tbody tr th {\n",
       "        vertical-align: top;\n",
       "    }\n",
       "\n",
       "    .dataframe thead th {\n",
       "        text-align: right;\n",
       "    }\n",
       "</style>\n",
       "<table border=\"1\" class=\"dataframe\">\n",
       "  <thead>\n",
       "    <tr style=\"text-align: right;\">\n",
       "      <th></th>\n",
       "      <th>age</th>\n",
       "      <th>gender</th>\n",
       "      <th>height</th>\n",
       "      <th>weight</th>\n",
       "      <th>state</th>\n",
       "      <th>bmi_app_state</th>\n",
       "      <th>income_app_state</th>\n",
       "      <th>current_ins</th>\n",
       "      <th>current_ins_value</th>\n",
       "      <th>replacement_ins</th>\n",
       "      <th>...</th>\n",
       "      <th>weight_loss_amount</th>\n",
       "      <th>weight_loss_reason</th>\n",
       "      <th>cancer_type</th>\n",
       "      <th>citizen</th>\n",
       "      <th>legal_resident</th>\n",
       "      <th>skydive_count</th>\n",
       "      <th>surgery_type</th>\n",
       "      <th>travel_countries</th>\n",
       "      <th>approved_risk_class</th>\n",
       "      <th>predicted_target</th>\n",
       "    </tr>\n",
       "  </thead>\n",
       "  <tbody>\n",
       "    <tr>\n",
       "      <th>51536</th>\n",
       "      <td>29.599513</td>\n",
       "      <td>1.507527</td>\n",
       "      <td>61.0</td>\n",
       "      <td>125.0</td>\n",
       "      <td>1.534609</td>\n",
       "      <td>23.615963</td>\n",
       "      <td>28800</td>\n",
       "      <td>1.547864</td>\n",
       "      <td>0.0</td>\n",
       "      <td>1.530315</td>\n",
       "      <td>...</td>\n",
       "      <td>0.0</td>\n",
       "      <td>1.525318</td>\n",
       "      <td>1.526551</td>\n",
       "      <td>1.557944</td>\n",
       "      <td>1.527538</td>\n",
       "      <td>0.0</td>\n",
       "      <td>1.526091</td>\n",
       "      <td>1.529015</td>\n",
       "      <td>1</td>\n",
       "      <td>1</td>\n",
       "    </tr>\n",
       "    <tr>\n",
       "      <th>42501</th>\n",
       "      <td>27.034094</td>\n",
       "      <td>1.544475</td>\n",
       "      <td>62.0</td>\n",
       "      <td>165.0</td>\n",
       "      <td>1.534609</td>\n",
       "      <td>30.175598</td>\n",
       "      <td>33600</td>\n",
       "      <td>1.415928</td>\n",
       "      <td>50000.0</td>\n",
       "      <td>1.530315</td>\n",
       "      <td>...</td>\n",
       "      <td>15.0</td>\n",
       "      <td>1.525318</td>\n",
       "      <td>1.526551</td>\n",
       "      <td>1.524298</td>\n",
       "      <td>1.527538</td>\n",
       "      <td>0.0</td>\n",
       "      <td>1.526091</td>\n",
       "      <td>1.529015</td>\n",
       "      <td>1</td>\n",
       "      <td>1</td>\n",
       "    </tr>\n",
       "    <tr>\n",
       "      <th>25895</th>\n",
       "      <td>41.813316</td>\n",
       "      <td>1.544475</td>\n",
       "      <td>64.0</td>\n",
       "      <td>119.0</td>\n",
       "      <td>1.495556</td>\n",
       "      <td>20.424072</td>\n",
       "      <td>51600</td>\n",
       "      <td>1.415928</td>\n",
       "      <td>500000.0</td>\n",
       "      <td>1.530315</td>\n",
       "      <td>...</td>\n",
       "      <td>0.0</td>\n",
       "      <td>1.525318</td>\n",
       "      <td>1.526551</td>\n",
       "      <td>1.524298</td>\n",
       "      <td>1.527538</td>\n",
       "      <td>0.0</td>\n",
       "      <td>1.526091</td>\n",
       "      <td>1.289067</td>\n",
       "      <td>1</td>\n",
       "      <td>1</td>\n",
       "    </tr>\n",
       "    <tr>\n",
       "      <th>22396</th>\n",
       "      <td>35.751590</td>\n",
       "      <td>1.507527</td>\n",
       "      <td>70.0</td>\n",
       "      <td>210.0</td>\n",
       "      <td>1.495556</td>\n",
       "      <td>30.128571</td>\n",
       "      <td>260000</td>\n",
       "      <td>1.547864</td>\n",
       "      <td>0.0</td>\n",
       "      <td>1.530315</td>\n",
       "      <td>...</td>\n",
       "      <td>0.0</td>\n",
       "      <td>1.525318</td>\n",
       "      <td>1.526551</td>\n",
       "      <td>1.524298</td>\n",
       "      <td>1.527538</td>\n",
       "      <td>0.0</td>\n",
       "      <td>1.526091</td>\n",
       "      <td>1.529015</td>\n",
       "      <td>1</td>\n",
       "      <td>1</td>\n",
       "    </tr>\n",
       "    <tr>\n",
       "      <th>16886</th>\n",
       "      <td>36.586651</td>\n",
       "      <td>1.507527</td>\n",
       "      <td>72.0</td>\n",
       "      <td>206.0</td>\n",
       "      <td>1.495280</td>\n",
       "      <td>27.935571</td>\n",
       "      <td>120000</td>\n",
       "      <td>1.547864</td>\n",
       "      <td>0.0</td>\n",
       "      <td>1.530315</td>\n",
       "      <td>...</td>\n",
       "      <td>20.0</td>\n",
       "      <td>1.525318</td>\n",
       "      <td>1.526551</td>\n",
       "      <td>1.524298</td>\n",
       "      <td>1.527538</td>\n",
       "      <td>0.0</td>\n",
       "      <td>1.526091</td>\n",
       "      <td>1.529015</td>\n",
       "      <td>0</td>\n",
       "      <td>0</td>\n",
       "    </tr>\n",
       "  </tbody>\n",
       "</table>\n",
       "<p>5 rows × 67 columns</p>\n",
       "</div>"
      ],
      "text/plain": [
       "             age    gender  height  weight     state  bmi_app_state  \\\n",
       "51536  29.599513  1.507527    61.0   125.0  1.534609      23.615963   \n",
       "42501  27.034094  1.544475    62.0   165.0  1.534609      30.175598   \n",
       "25895  41.813316  1.544475    64.0   119.0  1.495556      20.424072   \n",
       "22396  35.751590  1.507527    70.0   210.0  1.495556      30.128571   \n",
       "16886  36.586651  1.507527    72.0   206.0  1.495280      27.935571   \n",
       "\n",
       "       income_app_state  current_ins  current_ins_value  replacement_ins  ...  \\\n",
       "51536             28800     1.547864                0.0         1.530315  ...   \n",
       "42501             33600     1.415928            50000.0         1.530315  ...   \n",
       "25895             51600     1.415928           500000.0         1.530315  ...   \n",
       "22396            260000     1.547864                0.0         1.530315  ...   \n",
       "16886            120000     1.547864                0.0         1.530315  ...   \n",
       "\n",
       "       weight_loss_amount  weight_loss_reason  cancer_type   citizen  \\\n",
       "51536                 0.0            1.525318     1.526551  1.557944   \n",
       "42501                15.0            1.525318     1.526551  1.524298   \n",
       "25895                 0.0            1.525318     1.526551  1.524298   \n",
       "22396                 0.0            1.525318     1.526551  1.524298   \n",
       "16886                20.0            1.525318     1.526551  1.524298   \n",
       "\n",
       "       legal_resident  skydive_count  surgery_type  travel_countries  \\\n",
       "51536        1.527538            0.0      1.526091          1.529015   \n",
       "42501        1.527538            0.0      1.526091          1.529015   \n",
       "25895        1.527538            0.0      1.526091          1.289067   \n",
       "22396        1.527538            0.0      1.526091          1.529015   \n",
       "16886        1.527538            0.0      1.526091          1.529015   \n",
       "\n",
       "       approved_risk_class  predicted_target  \n",
       "51536                    1                 1  \n",
       "42501                    1                 1  \n",
       "25895                    1                 1  \n",
       "22396                    1                 1  \n",
       "16886                    0                 0  \n",
       "\n",
       "[5 rows x 67 columns]"
      ]
     },
     "execution_count": 11,
     "metadata": {},
     "output_type": "execute_result"
    }
   ],
   "source": [
    "cat_pred = cat_preds.reshape(-1)\n",
    "cat_pred_series = pd.Series(cat_pred, index = test_features.index, name = 'predicted_target')\n",
    "test_results_df = pd.concat([test_features, test_target, cat_pred_series], axis=1)\n",
    "test_results_df.head()"
   ]
  },
  {
   "cell_type": "code",
   "execution_count": 12,
   "id": "2fdb3a1e",
   "metadata": {},
   "outputs": [
    {
     "data": {
      "text/html": [
       "<div>\n",
       "<style scoped>\n",
       "    .dataframe tbody tr th:only-of-type {\n",
       "        vertical-align: middle;\n",
       "    }\n",
       "\n",
       "    .dataframe tbody tr th {\n",
       "        vertical-align: top;\n",
       "    }\n",
       "\n",
       "    .dataframe thead th {\n",
       "        text-align: right;\n",
       "    }\n",
       "</style>\n",
       "<table border=\"1\" class=\"dataframe\">\n",
       "  <thead>\n",
       "    <tr style=\"text-align: right;\">\n",
       "      <th></th>\n",
       "      <th>age</th>\n",
       "      <th>gender</th>\n",
       "      <th>height</th>\n",
       "      <th>weight</th>\n",
       "      <th>state</th>\n",
       "      <th>bmi_app_state</th>\n",
       "      <th>income_app_state</th>\n",
       "      <th>current_ins</th>\n",
       "      <th>current_ins_value</th>\n",
       "      <th>replacement_ins</th>\n",
       "      <th>...</th>\n",
       "      <th>weight_loss_reason</th>\n",
       "      <th>cancer_type</th>\n",
       "      <th>citizen</th>\n",
       "      <th>legal_resident</th>\n",
       "      <th>skydive_count</th>\n",
       "      <th>surgery_type</th>\n",
       "      <th>travel_countries</th>\n",
       "      <th>approved_risk_class</th>\n",
       "      <th>predicted_target</th>\n",
       "      <th>agree</th>\n",
       "    </tr>\n",
       "  </thead>\n",
       "  <tbody>\n",
       "    <tr>\n",
       "      <th>51536</th>\n",
       "      <td>29.599513</td>\n",
       "      <td>1.507527</td>\n",
       "      <td>61.0</td>\n",
       "      <td>125.0</td>\n",
       "      <td>1.534609</td>\n",
       "      <td>23.615963</td>\n",
       "      <td>28800</td>\n",
       "      <td>1.547864</td>\n",
       "      <td>0.0</td>\n",
       "      <td>1.530315</td>\n",
       "      <td>...</td>\n",
       "      <td>1.525318</td>\n",
       "      <td>1.526551</td>\n",
       "      <td>1.557944</td>\n",
       "      <td>1.527538</td>\n",
       "      <td>0.0</td>\n",
       "      <td>1.526091</td>\n",
       "      <td>1.529015</td>\n",
       "      <td>1</td>\n",
       "      <td>1</td>\n",
       "      <td>1</td>\n",
       "    </tr>\n",
       "    <tr>\n",
       "      <th>42501</th>\n",
       "      <td>27.034094</td>\n",
       "      <td>1.544475</td>\n",
       "      <td>62.0</td>\n",
       "      <td>165.0</td>\n",
       "      <td>1.534609</td>\n",
       "      <td>30.175598</td>\n",
       "      <td>33600</td>\n",
       "      <td>1.415928</td>\n",
       "      <td>50000.0</td>\n",
       "      <td>1.530315</td>\n",
       "      <td>...</td>\n",
       "      <td>1.525318</td>\n",
       "      <td>1.526551</td>\n",
       "      <td>1.524298</td>\n",
       "      <td>1.527538</td>\n",
       "      <td>0.0</td>\n",
       "      <td>1.526091</td>\n",
       "      <td>1.529015</td>\n",
       "      <td>1</td>\n",
       "      <td>1</td>\n",
       "      <td>1</td>\n",
       "    </tr>\n",
       "    <tr>\n",
       "      <th>25895</th>\n",
       "      <td>41.813316</td>\n",
       "      <td>1.544475</td>\n",
       "      <td>64.0</td>\n",
       "      <td>119.0</td>\n",
       "      <td>1.495556</td>\n",
       "      <td>20.424072</td>\n",
       "      <td>51600</td>\n",
       "      <td>1.415928</td>\n",
       "      <td>500000.0</td>\n",
       "      <td>1.530315</td>\n",
       "      <td>...</td>\n",
       "      <td>1.525318</td>\n",
       "      <td>1.526551</td>\n",
       "      <td>1.524298</td>\n",
       "      <td>1.527538</td>\n",
       "      <td>0.0</td>\n",
       "      <td>1.526091</td>\n",
       "      <td>1.289067</td>\n",
       "      <td>1</td>\n",
       "      <td>1</td>\n",
       "      <td>1</td>\n",
       "    </tr>\n",
       "    <tr>\n",
       "      <th>22396</th>\n",
       "      <td>35.751590</td>\n",
       "      <td>1.507527</td>\n",
       "      <td>70.0</td>\n",
       "      <td>210.0</td>\n",
       "      <td>1.495556</td>\n",
       "      <td>30.128571</td>\n",
       "      <td>260000</td>\n",
       "      <td>1.547864</td>\n",
       "      <td>0.0</td>\n",
       "      <td>1.530315</td>\n",
       "      <td>...</td>\n",
       "      <td>1.525318</td>\n",
       "      <td>1.526551</td>\n",
       "      <td>1.524298</td>\n",
       "      <td>1.527538</td>\n",
       "      <td>0.0</td>\n",
       "      <td>1.526091</td>\n",
       "      <td>1.529015</td>\n",
       "      <td>1</td>\n",
       "      <td>1</td>\n",
       "      <td>1</td>\n",
       "    </tr>\n",
       "    <tr>\n",
       "      <th>16886</th>\n",
       "      <td>36.586651</td>\n",
       "      <td>1.507527</td>\n",
       "      <td>72.0</td>\n",
       "      <td>206.0</td>\n",
       "      <td>1.495280</td>\n",
       "      <td>27.935571</td>\n",
       "      <td>120000</td>\n",
       "      <td>1.547864</td>\n",
       "      <td>0.0</td>\n",
       "      <td>1.530315</td>\n",
       "      <td>...</td>\n",
       "      <td>1.525318</td>\n",
       "      <td>1.526551</td>\n",
       "      <td>1.524298</td>\n",
       "      <td>1.527538</td>\n",
       "      <td>0.0</td>\n",
       "      <td>1.526091</td>\n",
       "      <td>1.529015</td>\n",
       "      <td>0</td>\n",
       "      <td>0</td>\n",
       "      <td>1</td>\n",
       "    </tr>\n",
       "  </tbody>\n",
       "</table>\n",
       "<p>5 rows × 68 columns</p>\n",
       "</div>"
      ],
      "text/plain": [
       "             age    gender  height  weight     state  bmi_app_state  \\\n",
       "51536  29.599513  1.507527    61.0   125.0  1.534609      23.615963   \n",
       "42501  27.034094  1.544475    62.0   165.0  1.534609      30.175598   \n",
       "25895  41.813316  1.544475    64.0   119.0  1.495556      20.424072   \n",
       "22396  35.751590  1.507527    70.0   210.0  1.495556      30.128571   \n",
       "16886  36.586651  1.507527    72.0   206.0  1.495280      27.935571   \n",
       "\n",
       "       income_app_state  current_ins  current_ins_value  replacement_ins  ...  \\\n",
       "51536             28800     1.547864                0.0         1.530315  ...   \n",
       "42501             33600     1.415928            50000.0         1.530315  ...   \n",
       "25895             51600     1.415928           500000.0         1.530315  ...   \n",
       "22396            260000     1.547864                0.0         1.530315  ...   \n",
       "16886            120000     1.547864                0.0         1.530315  ...   \n",
       "\n",
       "       weight_loss_reason  cancer_type   citizen  legal_resident  \\\n",
       "51536            1.525318     1.526551  1.557944        1.527538   \n",
       "42501            1.525318     1.526551  1.524298        1.527538   \n",
       "25895            1.525318     1.526551  1.524298        1.527538   \n",
       "22396            1.525318     1.526551  1.524298        1.527538   \n",
       "16886            1.525318     1.526551  1.524298        1.527538   \n",
       "\n",
       "       skydive_count  surgery_type  travel_countries  approved_risk_class  \\\n",
       "51536            0.0      1.526091          1.529015                    1   \n",
       "42501            0.0      1.526091          1.529015                    1   \n",
       "25895            0.0      1.526091          1.289067                    1   \n",
       "22396            0.0      1.526091          1.529015                    1   \n",
       "16886            0.0      1.526091          1.529015                    0   \n",
       "\n",
       "       predicted_target  agree  \n",
       "51536                 1      1  \n",
       "42501                 1      1  \n",
       "25895                 1      1  \n",
       "22396                 1      1  \n",
       "16886                 0      1  \n",
       "\n",
       "[5 rows x 68 columns]"
      ]
     },
     "execution_count": 12,
     "metadata": {},
     "output_type": "execute_result"
    }
   ],
   "source": [
    "test_results_df['agree'] = test_results_df.apply(lambda x: 1 if x.approved_risk_class == x.predicted_target else 0, axis=1)\n",
    "test_results_df.head()"
   ]
  },
  {
   "cell_type": "code",
   "execution_count": 14,
   "id": "ddc2fa2d",
   "metadata": {},
   "outputs": [
    {
     "data": {
      "text/plain": [
       "gender    agree\n",
       "1.507527  0        3226\n",
       "          1        3118\n",
       "1.544475  0        3336\n",
       "          1        3170\n",
       "Name: age, dtype: int64"
      ]
     },
     "execution_count": 14,
     "metadata": {},
     "output_type": "execute_result"
    }
   ],
   "source": [
    "test_results_df.groupby(['gender','agree'])['age'].count()"
   ]
  },
  {
   "cell_type": "markdown",
   "id": "168cdc09",
   "metadata": {},
   "source": [
    "1.544475 = female, so this model is slightly more accurate at predicting which risk class a male would be in than a female.  "
   ]
  },
  {
   "cell_type": "markdown",
   "id": "714c670a",
   "metadata": {},
   "source": [
    "#### Feature Importance"
   ]
  },
  {
   "cell_type": "code",
   "execution_count": 40,
   "id": "50996570",
   "metadata": {},
   "outputs": [
    {
     "data": {
      "text/html": [
       "<div>\n",
       "<style scoped>\n",
       "    .dataframe tbody tr th:only-of-type {\n",
       "        vertical-align: middle;\n",
       "    }\n",
       "\n",
       "    .dataframe tbody tr th {\n",
       "        vertical-align: top;\n",
       "    }\n",
       "\n",
       "    .dataframe thead th {\n",
       "        text-align: right;\n",
       "    }\n",
       "</style>\n",
       "<table border=\"1\" class=\"dataframe\">\n",
       "  <thead>\n",
       "    <tr style=\"text-align: right;\">\n",
       "      <th></th>\n",
       "      <th>feature</th>\n",
       "      <th>importance</th>\n",
       "    </tr>\n",
       "  </thead>\n",
       "  <tbody>\n",
       "    <tr>\n",
       "      <th>5</th>\n",
       "      <td>bmi_app_state</td>\n",
       "      <td>42.732780</td>\n",
       "    </tr>\n",
       "    <tr>\n",
       "      <th>0</th>\n",
       "      <td>age</td>\n",
       "      <td>9.103156</td>\n",
       "    </tr>\n",
       "    <tr>\n",
       "      <th>14</th>\n",
       "      <td>occupation_description</td>\n",
       "      <td>8.620173</td>\n",
       "    </tr>\n",
       "    <tr>\n",
       "      <th>6</th>\n",
       "      <td>income_app_state</td>\n",
       "      <td>7.963089</td>\n",
       "    </tr>\n",
       "    <tr>\n",
       "      <th>4</th>\n",
       "      <td>state</td>\n",
       "      <td>5.032669</td>\n",
       "    </tr>\n",
       "    <tr>\n",
       "      <th>3</th>\n",
       "      <td>weight</td>\n",
       "      <td>4.191771</td>\n",
       "    </tr>\n",
       "    <tr>\n",
       "      <th>12</th>\n",
       "      <td>marijuana_monthly_count</td>\n",
       "      <td>2.626115</td>\n",
       "    </tr>\n",
       "    <tr>\n",
       "      <th>31</th>\n",
       "      <td>med_conditions</td>\n",
       "      <td>2.595665</td>\n",
       "    </tr>\n",
       "    <tr>\n",
       "      <th>2</th>\n",
       "      <td>height</td>\n",
       "      <td>2.535343</td>\n",
       "    </tr>\n",
       "    <tr>\n",
       "      <th>13</th>\n",
       "      <td>marijuana</td>\n",
       "      <td>2.119328</td>\n",
       "    </tr>\n",
       "    <tr>\n",
       "      <th>11</th>\n",
       "      <td>alcohol_weekly</td>\n",
       "      <td>2.019830</td>\n",
       "    </tr>\n",
       "    <tr>\n",
       "      <th>8</th>\n",
       "      <td>current_ins_value</td>\n",
       "      <td>1.699850</td>\n",
       "    </tr>\n",
       "    <tr>\n",
       "      <th>47</th>\n",
       "      <td>mental_health_diagnosis</td>\n",
       "      <td>1.346128</td>\n",
       "    </tr>\n",
       "    <tr>\n",
       "      <th>26</th>\n",
       "      <td>employment_status</td>\n",
       "      <td>1.331243</td>\n",
       "    </tr>\n",
       "    <tr>\n",
       "      <th>1</th>\n",
       "      <td>gender</td>\n",
       "      <td>1.290248</td>\n",
       "    </tr>\n",
       "    <tr>\n",
       "      <th>16</th>\n",
       "      <td>valid_drivers_license_app_state</td>\n",
       "      <td>0.604784</td>\n",
       "    </tr>\n",
       "    <tr>\n",
       "      <th>64</th>\n",
       "      <td>travel_countries</td>\n",
       "      <td>0.585261</td>\n",
       "    </tr>\n",
       "    <tr>\n",
       "      <th>57</th>\n",
       "      <td>weight_loss_amount</td>\n",
       "      <td>0.541781</td>\n",
       "    </tr>\n",
       "    <tr>\n",
       "      <th>60</th>\n",
       "      <td>citizen</td>\n",
       "      <td>0.503673</td>\n",
       "    </tr>\n",
       "    <tr>\n",
       "      <th>39</th>\n",
       "      <td>criminal_history</td>\n",
       "      <td>0.345728</td>\n",
       "    </tr>\n",
       "  </tbody>\n",
       "</table>\n",
       "</div>"
      ],
      "text/plain": [
       "                            feature  importance\n",
       "5                     bmi_app_state   42.732780\n",
       "0                               age    9.103156\n",
       "14           occupation_description    8.620173\n",
       "6                  income_app_state    7.963089\n",
       "4                             state    5.032669\n",
       "3                            weight    4.191771\n",
       "12          marijuana_monthly_count    2.626115\n",
       "31                   med_conditions    2.595665\n",
       "2                            height    2.535343\n",
       "13                        marijuana    2.119328\n",
       "11                   alcohol_weekly    2.019830\n",
       "8                 current_ins_value    1.699850\n",
       "47          mental_health_diagnosis    1.346128\n",
       "26                employment_status    1.331243\n",
       "1                            gender    1.290248\n",
       "16  valid_drivers_license_app_state    0.604784\n",
       "64                 travel_countries    0.585261\n",
       "57               weight_loss_amount    0.541781\n",
       "60                          citizen    0.503673\n",
       "39                 criminal_history    0.345728"
      ]
     },
     "execution_count": 40,
     "metadata": {},
     "output_type": "execute_result"
    }
   ],
   "source": [
    "importance = cat.get_feature_importance()\n",
    "feature_names = features.columns.tolist()\n",
    "feature_importance = pd.DataFrame({'feature': feature_names, 'importance': importance})\n",
    "sorted_importance = feature_importance.sort_values('importance', ascending=False)\n",
    "top_10_features = sorted_importance.head(20)\n",
    "top_10_features"
   ]
  },
  {
   "cell_type": "markdown",
   "id": "1a8f08fc",
   "metadata": {},
   "source": [
    "Try balancing classes"
   ]
  },
  {
   "cell_type": "code",
   "execution_count": 401,
   "id": "19480325",
   "metadata": {},
   "outputs": [
    {
     "data": {
      "text/plain": [
       "0.4619455252918288"
      ]
     },
     "execution_count": 401,
     "metadata": {},
     "output_type": "execute_result"
    }
   ],
   "source": [
    "class_0 = 12850/1761\n",
    "class_1 = 12850/4505\n",
    "class_2 = 12850/4400\n",
    "class_3 = 12850/2184\n",
    "\n",
    "class_weights = [class_0, class_1, class_2, class_3]\n",
    "\n",
    "cat = CatBoostClassifier(\n",
    "    learning_rate=0.1,\n",
    "    class_weights = class_weights,\n",
    "    depth=6,\n",
    "    l2_leaf_reg=3,\n",
    "    iterations=1000, # the number of boosting iterations to perform\n",
    "    random_seed=42, # for reproducibility\n",
    "    loss_function='MultiClass', # the loss function to optimize\n",
    "    verbose=False # whether to print training information\n",
    ")\n",
    "\n",
    "cat.fit(features, target)\n",
    "cat_preds = cat.predict(test_features)\n",
    "accuracy_score(cat_preds, test_target)"
   ]
  },
  {
   "cell_type": "code",
   "execution_count": 402,
   "id": "6745fb72",
   "metadata": {},
   "outputs": [
    {
     "data": {
      "image/png": "[encoded data removed]",
      "text/plain": [
       "<Figure size 1440x720 with 1 Axes>"
      ]
     },
     "metadata": {
      "needs_background": "light"
     },
     "output_type": "display_data"
    }
   ],
   "source": [
    "labels = [0,3,1,2]\n",
    "\n",
    "matrix = confusion_matrix(test_target, cat_preds, labels = labels)\n",
    "df = pd.DataFrame(matrix)\n",
    "\n",
    "sn.heatmap(df, annot = True, cbar = None, cmap = \"Blues\", fmt='g')\n",
    "plt.show()"
   ]
  },
  {
   "cell_type": "code",
   "execution_count": 403,
   "id": "7a1163af",
   "metadata": {},
   "outputs": [
    {
     "name": "stdout",
     "output_type": "stream",
     "text": [
      "              precision    recall  f1-score   support\n",
      "\n",
      "           0       0.31      0.74      0.44      1761\n",
      "           1       0.61      0.37      0.46      4505\n",
      "           2       0.61      0.43      0.51      4400\n",
      "           3       0.37      0.48      0.42      2184\n",
      "\n",
      "    accuracy                           0.46     12850\n",
      "   macro avg       0.48      0.51      0.46     12850\n",
      "weighted avg       0.53      0.46      0.47     12850\n",
      "\n"
     ]
    }
   ],
   "source": [
    "print(classification_report(test_target, cat_preds))"
   ]
  },
  {
   "cell_type": "markdown",
   "id": "aff4b0f1",
   "metadata": {},
   "source": [
    "- Accuracy decreased 3%\n",
    "- Recall increased 6%\n",
    "- We would like a model that cheats toward select and essential, and so we don't want to balance the classes since select and essential are the larger classes.  So the best model is the unbalanced catboost."
   ]
  },
  {
   "cell_type": "markdown",
   "id": "af2c30a8",
   "metadata": {},
   "source": [
    "### XGBoost Model"
   ]
  },
  {
   "cell_type": "code",
   "execution_count": 78,
   "id": "b0332274",
   "metadata": {},
   "outputs": [
    {
     "data": {
      "text/html": [
       "<div>\n",
       "<style scoped>\n",
       "    .dataframe tbody tr th:only-of-type {\n",
       "        vertical-align: middle;\n",
       "    }\n",
       "\n",
       "    .dataframe tbody tr th {\n",
       "        vertical-align: top;\n",
       "    }\n",
       "\n",
       "    .dataframe thead th {\n",
       "        text-align: right;\n",
       "    }\n",
       "</style>\n",
       "<table border=\"1\" class=\"dataframe\">\n",
       "  <thead>\n",
       "    <tr style=\"text-align: right;\">\n",
       "      <th></th>\n",
       "      <th>age</th>\n",
       "      <th>gender</th>\n",
       "      <th>height</th>\n",
       "      <th>weight</th>\n",
       "      <th>state</th>\n",
       "      <th>bmi_app_state</th>\n",
       "      <th>income_app_state</th>\n",
       "      <th>current_ins</th>\n",
       "      <th>current_ins_value</th>\n",
       "      <th>replacement_ins</th>\n",
       "      <th>...</th>\n",
       "      <th>weight_loss</th>\n",
       "      <th>weight_loss_amount</th>\n",
       "      <th>weight_loss_reason</th>\n",
       "      <th>cancer_type</th>\n",
       "      <th>citizen</th>\n",
       "      <th>legal_resident</th>\n",
       "      <th>skydive_count</th>\n",
       "      <th>surgery_type</th>\n",
       "      <th>travel_countries</th>\n",
       "      <th>approved_risk_class</th>\n",
       "    </tr>\n",
       "  </thead>\n",
       "  <tbody>\n",
       "    <tr>\n",
       "      <th>0</th>\n",
       "      <td>38.029528</td>\n",
       "      <td>1.544475</td>\n",
       "      <td>61.0</td>\n",
       "      <td>110.0</td>\n",
       "      <td>1.401762</td>\n",
       "      <td>20.782048</td>\n",
       "      <td>67000</td>\n",
       "      <td>1.547864</td>\n",
       "      <td>0.0</td>\n",
       "      <td>1.530315</td>\n",
       "      <td>...</td>\n",
       "      <td>False</td>\n",
       "      <td>0.0</td>\n",
       "      <td>1.525318</td>\n",
       "      <td>1.526551</td>\n",
       "      <td>1.524298</td>\n",
       "      <td>1.527538</td>\n",
       "      <td>0.0</td>\n",
       "      <td>1.526091</td>\n",
       "      <td>1.529015</td>\n",
       "      <td>0</td>\n",
       "    </tr>\n",
       "    <tr>\n",
       "      <th>1</th>\n",
       "      <td>23.236617</td>\n",
       "      <td>1.544475</td>\n",
       "      <td>62.0</td>\n",
       "      <td>180.0</td>\n",
       "      <td>1.541045</td>\n",
       "      <td>32.918835</td>\n",
       "      <td>15600</td>\n",
       "      <td>1.547864</td>\n",
       "      <td>0.0</td>\n",
       "      <td>1.530315</td>\n",
       "      <td>...</td>\n",
       "      <td>False</td>\n",
       "      <td>0.0</td>\n",
       "      <td>1.525318</td>\n",
       "      <td>1.526551</td>\n",
       "      <td>1.524298</td>\n",
       "      <td>1.527538</td>\n",
       "      <td>0.0</td>\n",
       "      <td>1.526091</td>\n",
       "      <td>1.529015</td>\n",
       "      <td>1</td>\n",
       "    </tr>\n",
       "    <tr>\n",
       "      <th>2</th>\n",
       "      <td>49.271374</td>\n",
       "      <td>1.544475</td>\n",
       "      <td>64.0</td>\n",
       "      <td>130.0</td>\n",
       "      <td>1.611661</td>\n",
       "      <td>22.312012</td>\n",
       "      <td>29380</td>\n",
       "      <td>1.415928</td>\n",
       "      <td>15000.0</td>\n",
       "      <td>1.530315</td>\n",
       "      <td>...</td>\n",
       "      <td>False</td>\n",
       "      <td>0.0</td>\n",
       "      <td>1.525318</td>\n",
       "      <td>1.526551</td>\n",
       "      <td>1.524298</td>\n",
       "      <td>1.527538</td>\n",
       "      <td>0.0</td>\n",
       "      <td>1.526091</td>\n",
       "      <td>1.529015</td>\n",
       "      <td>2</td>\n",
       "    </tr>\n",
       "    <tr>\n",
       "      <th>3</th>\n",
       "      <td>44.652525</td>\n",
       "      <td>1.544475</td>\n",
       "      <td>65.0</td>\n",
       "      <td>135.0</td>\n",
       "      <td>1.465253</td>\n",
       "      <td>22.462722</td>\n",
       "      <td>103844</td>\n",
       "      <td>1.415928</td>\n",
       "      <td>8000.0</td>\n",
       "      <td>1.530315</td>\n",
       "      <td>...</td>\n",
       "      <td>False</td>\n",
       "      <td>0.0</td>\n",
       "      <td>1.525318</td>\n",
       "      <td>1.526551</td>\n",
       "      <td>1.524298</td>\n",
       "      <td>1.527538</td>\n",
       "      <td>0.0</td>\n",
       "      <td>1.526091</td>\n",
       "      <td>1.529015</td>\n",
       "      <td>0</td>\n",
       "    </tr>\n",
       "    <tr>\n",
       "      <th>4</th>\n",
       "      <td>52.507581</td>\n",
       "      <td>1.544475</td>\n",
       "      <td>63.0</td>\n",
       "      <td>188.0</td>\n",
       "      <td>1.495280</td>\n",
       "      <td>33.299068</td>\n",
       "      <td>60000</td>\n",
       "      <td>1.547864</td>\n",
       "      <td>0.0</td>\n",
       "      <td>1.530315</td>\n",
       "      <td>...</td>\n",
       "      <td>False</td>\n",
       "      <td>0.0</td>\n",
       "      <td>1.525318</td>\n",
       "      <td>1.526551</td>\n",
       "      <td>1.524298</td>\n",
       "      <td>1.527538</td>\n",
       "      <td>0.0</td>\n",
       "      <td>1.526091</td>\n",
       "      <td>1.526101</td>\n",
       "      <td>1</td>\n",
       "    </tr>\n",
       "  </tbody>\n",
       "</table>\n",
       "<p>5 rows × 66 columns</p>\n",
       "</div>"
      ],
      "text/plain": [
       "         age    gender  height  weight     state  bmi_app_state  \\\n",
       "0  38.029528  1.544475    61.0   110.0  1.401762      20.782048   \n",
       "1  23.236617  1.544475    62.0   180.0  1.541045      32.918835   \n",
       "2  49.271374  1.544475    64.0   130.0  1.611661      22.312012   \n",
       "3  44.652525  1.544475    65.0   135.0  1.465253      22.462722   \n",
       "4  52.507581  1.544475    63.0   188.0  1.495280      33.299068   \n",
       "\n",
       "   income_app_state  current_ins  current_ins_value  replacement_ins  ...  \\\n",
       "0             67000     1.547864                0.0         1.530315  ...   \n",
       "1             15600     1.547864                0.0         1.530315  ...   \n",
       "2             29380     1.415928            15000.0         1.530315  ...   \n",
       "3            103844     1.415928             8000.0         1.530315  ...   \n",
       "4             60000     1.547864                0.0         1.530315  ...   \n",
       "\n",
       "   weight_loss  weight_loss_amount  weight_loss_reason  cancer_type   citizen  \\\n",
       "0        False                 0.0            1.525318     1.526551  1.524298   \n",
       "1        False                 0.0            1.525318     1.526551  1.524298   \n",
       "2        False                 0.0            1.525318     1.526551  1.524298   \n",
       "3        False                 0.0            1.525318     1.526551  1.524298   \n",
       "4        False                 0.0            1.525318     1.526551  1.524298   \n",
       "\n",
       "   legal_resident  skydive_count  surgery_type  travel_countries  \\\n",
       "0        1.527538            0.0      1.526091          1.529015   \n",
       "1        1.527538            0.0      1.526091          1.529015   \n",
       "2        1.527538            0.0      1.526091          1.529015   \n",
       "3        1.527538            0.0      1.526091          1.529015   \n",
       "4        1.527538            0.0      1.526091          1.526101   \n",
       "\n",
       "   approved_risk_class  \n",
       "0                    0  \n",
       "1                    1  \n",
       "2                    2  \n",
       "3                    0  \n",
       "4                    1  \n",
       "\n",
       "[5 rows x 66 columns]"
      ]
     },
     "execution_count": 78,
     "metadata": {},
     "output_type": "execute_result"
    }
   ],
   "source": [
    "import pandas as pd\n",
    "import numpy as np\n",
    "import xgboost as xgb\n",
    "from sklearn.model_selection import train_test_split\n",
    "from sklearn.metrics import accuracy_score, confusion_matrix, classification_report\n",
    "\n",
    "\n",
    "df = pd.read_csv('approved_risk_class.csv')\n",
    "df.drop(df.columns[0], axis=1, inplace=True)\n",
    "df.head()"
   ]
  },
  {
   "cell_type": "code",
   "execution_count": 79,
   "id": "212d6d80",
   "metadata": {},
   "outputs": [],
   "source": [
    "train, test = train_test_split(df, test_size=0.2, random_state=42)\n",
    "\n",
    "features = train.drop('approved_risk_class', axis=1)\n",
    "target = train['approved_risk_class']\n",
    "test_features = test.drop('approved_risk_class', axis=1)\n",
    "test_target = test['approved_risk_class']"
   ]
  },
  {
   "cell_type": "code",
   "execution_count": 80,
   "id": "2b2d5106",
   "metadata": {},
   "outputs": [],
   "source": [
    "dtrain = xgb.DMatrix(features, label=target)\n",
    "dtest = xgb.DMatrix(test_features, label=test_target)"
   ]
  },
  {
   "cell_type": "code",
   "execution_count": 81,
   "id": "cde3d231",
   "metadata": {},
   "outputs": [],
   "source": [
    "params = {\n",
    "    'objective': 'multi:softmax',\n",
    "    'num_class': 4,\n",
    "    'max_depth': 6,\n",
    "    'eta': 0.3,\n",
    "    'subsample': 0.9,\n",
    "    'colsample_bytree': 0.8\n",
    "}\n"
   ]
  },
  {
   "cell_type": "code",
   "execution_count": 82,
   "id": "f0938781",
   "metadata": {},
   "outputs": [],
   "source": [
    "num_round = 100\n",
    "model = xgb.train(params, dtrain, num_round)\n"
   ]
  },
  {
   "cell_type": "code",
   "execution_count": 83,
   "id": "49c1f50b",
   "metadata": {},
   "outputs": [],
   "source": [
    "y_pred = model.predict(dtest)"
   ]
  },
  {
   "cell_type": "code",
   "execution_count": 84,
   "id": "5c776d8f",
   "metadata": {},
   "outputs": [
    {
     "name": "stdout",
     "output_type": "stream",
     "text": [
      "Accuracy: 0.4920622568093385\n"
     ]
    }
   ],
   "source": [
    "accuracy = accuracy_score(test_target, y_pred)\n",
    "print('Accuracy:', accuracy)"
   ]
  },
  {
   "cell_type": "code",
   "execution_count": 85,
   "id": "7b6a4fff",
   "metadata": {},
   "outputs": [
    {
     "data": {
      "image/png": "[encoded data removed]",
      "text/plain": [
       "<Figure size 864x432 with 1 Axes>"
      ]
     },
     "metadata": {
      "needs_background": "light"
     },
     "output_type": "display_data"
    }
   ],
   "source": [
    "import seaborn as sn\n",
    "import matplotlib.pyplot as plt\n",
    "\n",
    "labels = [0,3,1,2]\n",
    "class_names = ['elite', 'preferred', 'select', 'essential']\n",
    "\n",
    "labels = [0,3,1,2]\n",
    "\n",
    "matrix = confusion_matrix(test_target, y_pred, labels = labels)\n",
    "df = pd.DataFrame(matrix, index=class_names, columns=class_names)\n",
    "\n",
    "fig, ax = plt.subplots(figsize=(12, 6))\n",
    "\n",
    "sn.heatmap(df, annot=True, cbar=None, cmap=\"Blues\", fmt='g', annot_kws={\"size\": 16, \"weight\": \"bold\"})\n",
    "\n",
    "    \n",
    "plt.xlabel('Predicted Class', fontsize=14)\n",
    "plt.ylabel('True Class', fontsize=14)\n",
    "plt.xticks(fontsize=12)\n",
    "plt.yticks(fontsize=12)\n",
    "plt.show()"
   ]
  },
  {
   "cell_type": "code",
   "execution_count": 18,
   "id": "6994b74f",
   "metadata": {},
   "outputs": [
    {
     "name": "stdout",
     "output_type": "stream",
     "text": [
      "              precision    recall  f1-score   support\n",
      "\n",
      "           0       0.41      0.40      0.40      1761\n",
      "           1       0.47      0.59      0.52      4505\n",
      "           2       0.55      0.53      0.54      4400\n",
      "           3       0.49      0.30      0.37      2184\n",
      "\n",
      "    accuracy                           0.49     12850\n",
      "   macro avg       0.48      0.45      0.46     12850\n",
      "weighted avg       0.49      0.49      0.49     12850\n",
      "\n"
     ]
    }
   ],
   "source": [
    "print(classification_report(test_target, y_pred))"
   ]
  },
  {
   "cell_type": "code",
   "execution_count": null,
   "id": "4b0c7df5",
   "metadata": {},
   "outputs": [],
   "source": [
    "import numpy as np\n",
    "import pandas as pd\n",
    "import seaborn as sn\n",
    "import matplotlib.pyplot as plt\n",
    "from sklearn.metrics import confusion_matrix\n",
    "\n",
    "labels = [0,3,1,2]\n",
    "class_names = ['elite', 'preferred', 'select', 'essential']\n",
    "\n",
    "matrix = confusion_matrix(test_target, cat_preds, labels = labels)\n",
    "# df = pd.DataFrame(matrix, index=class_names, columns=class_names)\n",
    "\n",
    "fig, ax = plt.subplots(figsize=(12, 6))\n",
    "\n",
    "totals = np.sum(matrix)\n",
    "percent_matrix = np.round(matrix / totals * 100, 1)\n",
    "df = pd.DataFrame(percent_matrix, index=class_names, columns=class_names)\n",
    "res = sn.heatmap(df, annot=True, cbar=None, cmap=\"Blues\",  annot_kws={\"size\": 16, \"weight\": \"bold\"})\n",
    "\n",
    "for t in res.texts: t.set_text(t.get_text() + \" %\")\n",
    "    \n",
    "plt.xlabel('Predicted Class', fontsize=14)\n",
    "plt.ylabel('True Class', fontsize=14)\n",
    "plt.xticks(fontsize=12)\n",
    "plt.yticks(fontsize=12)\n",
    "plt.show()\n"
   ]
  }
 ],
 "metadata": {
  "kernelspec": {
   "display_name": "Python 3 (ipykernel)",
   "language": "python",
   "name": "python3"
  },
  "language_info": {
   "codemirror_mode": {
    "name": "ipython",
    "version": 3
   },
   "file_extension": ".py",
   "mimetype": "text/x-python",
   "name": "python",
   "nbconvert_exporter": "python",
   "pygments_lexer": "ipython3",
   "version": "3.9.7"
  }
 },
 "nbformat": 4,
 "nbformat_minor": 5
}
